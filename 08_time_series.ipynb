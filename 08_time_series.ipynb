{
  "nbformat": 4,
  "nbformat_minor": 0,
  "metadata": {
    "colab": {
      "provenance": [],
      "authorship_tag": "ABX9TyOSRmufFTCxJo9pR/xEDCcW",
      "include_colab_link": true
    },
    "kernelspec": {
      "name": "python3",
      "display_name": "Python 3"
    },
    "language_info": {
      "name": "python"
    }
  },
  "cells": [
    {
      "cell_type": "markdown",
      "metadata": {
        "id": "view-in-github",
        "colab_type": "text"
      },
      "source": [
        "<a href=\"https://colab.research.google.com/github/davidofitaly/notes_03_python_in_data_analysis/blob/main/08_time_series.ipynb\" target=\"_parent\"><img src=\"https://colab.research.google.com/assets/colab-badge.svg\" alt=\"Open In Colab\"/></a>"
      ]
    },
    {
      "cell_type": "code",
      "execution_count": 18,
      "metadata": {
        "id": "0fSxyNBDRo2L"
      },
      "outputs": [],
      "source": [
        "import pandas as pd\n",
        "import numpy as np\n",
        "from datetime import datetime\n",
        "from datetime import timedelta"
      ]
    },
    {
      "cell_type": "markdown",
      "source": [
        "##8.1 Date and time data types and tools"
      ],
      "metadata": {
        "id": "aUBjFQ5FSgE7"
      }
    },
    {
      "cell_type": "markdown",
      "source": [
        "###Introduction"
      ],
      "metadata": {
        "id": "STE6MbYHVQQ1"
      }
    },
    {
      "cell_type": "markdown",
      "source": [
        "\n",
        "\n",
        "*   \n",
        "\n"
      ],
      "metadata": {
        "id": "BBc-KgK5SrOi"
      }
    },
    {
      "cell_type": "code",
      "source": [
        "from datetime import datetime  # Import the datetime module from the standard library\n",
        "\n",
        "time_today = datetime.now()  # Get the current date and time\n",
        "\n",
        "time_today  # Display the current date and time"
      ],
      "metadata": {
        "id": "GxQ3aXCkSq1x",
        "outputId": "e9e41b91-9c1d-4098-f3a5-20eb651f8a6f",
        "colab": {
          "base_uri": "https://localhost:8080/"
        }
      },
      "execution_count": 7,
      "outputs": [
        {
          "output_type": "execute_result",
          "data": {
            "text/plain": [
              "datetime.datetime(2025, 3, 11, 17, 42, 5, 402765)"
            ]
          },
          "metadata": {},
          "execution_count": 7
        }
      ]
    },
    {
      "cell_type": "code",
      "source": [
        "time_today.year, time_today.month, time_today.day  # Extract the year, month, and day from the datetime object"
      ],
      "metadata": {
        "id": "Ot7e9TZFTBL0",
        "outputId": "7369f256-e90b-4c23-b0ad-62562834e383",
        "colab": {
          "base_uri": "https://localhost:8080/"
        }
      },
      "execution_count": 8,
      "outputs": [
        {
          "output_type": "execute_result",
          "data": {
            "text/plain": [
              "(2025, 3, 11)"
            ]
          },
          "metadata": {},
          "execution_count": 8
        }
      ]
    },
    {
      "cell_type": "markdown",
      "source": [
        "\n",
        "\n",
        "*   \n"
      ],
      "metadata": {
        "id": "N5f3GP7fTcCI"
      }
    },
    {
      "cell_type": "code",
      "source": [
        "delta_1 = datetime(2020, 10, 7) - datetime(2019, 6, 15)  # Calculate the difference between two dates\n",
        "\n",
        "# Extract the difference in days and total difference in seconds\n",
        "delta_1.days, delta_1.total_seconds()"
      ],
      "metadata": {
        "id": "9tEpdX62TeFK",
        "outputId": "a9be23cd-d043-4a11-90ae-36f7c9ca2687",
        "colab": {
          "base_uri": "https://localhost:8080/"
        }
      },
      "execution_count": 17,
      "outputs": [
        {
          "output_type": "execute_result",
          "data": {
            "text/plain": [
              "(480, 41472000.0)"
            ]
          },
          "metadata": {},
          "execution_count": 17
        }
      ]
    },
    {
      "cell_type": "markdown",
      "source": [
        "\n",
        "\n",
        "*   \n",
        "\n"
      ],
      "metadata": {
        "id": "KnW4EZonUZdT"
      }
    },
    {
      "cell_type": "code",
      "source": [
        "time = datetime.now()  # Get the current date and time\n",
        "\n",
        "time + timedelta(20)  # Add 20 days to the current date and time"
      ],
      "metadata": {
        "id": "TZemaJ1xUa4c",
        "outputId": "37e51acd-7507-4fef-91aa-704a1fc81262",
        "colab": {
          "base_uri": "https://localhost:8080/"
        }
      },
      "execution_count": 19,
      "outputs": [
        {
          "output_type": "execute_result",
          "data": {
            "text/plain": [
              "datetime.datetime(2025, 3, 31, 17, 48, 12, 412469)"
            ]
          },
          "metadata": {},
          "execution_count": 19
        }
      ]
    },
    {
      "cell_type": "code",
      "source": [
        "time_plus_days = time + timedelta(days=20)  # Add 20 days\n",
        "time_plus_minutes = time + timedelta(minutes=30)  # Add 30 minutes\n",
        "time_plus_seconds = time + timedelta(seconds=45)  # Add 45 seconds\n",
        "\n",
        "print(time_plus_days)\n",
        "print(time_plus_minutes)\n",
        "print(time_plus_seconds)"
      ],
      "metadata": {
        "id": "k3baCkoUUqfY",
        "outputId": "3800f521-230c-4b6a-b574-ca96d0a9be9d",
        "colab": {
          "base_uri": "https://localhost:8080/"
        }
      },
      "execution_count": 24,
      "outputs": [
        {
          "output_type": "stream",
          "name": "stdout",
          "text": [
            "2025-03-31 17:49:35.932779\n",
            "2025-03-11 18:19:35.932779\n",
            "2025-03-11 17:50:20.932779\n"
          ]
        }
      ]
    },
    {
      "cell_type": "markdown",
      "source": [
        "###Conversion between string and datetime objects"
      ],
      "metadata": {
        "id": "-zUsSWwIVVH6"
      }
    },
    {
      "cell_type": "markdown",
      "source": [
        "\n",
        "\n",
        "*  \n"
      ],
      "metadata": {
        "id": "6E7_IO7OWJFs"
      }
    },
    {
      "cell_type": "code",
      "source": [
        "# Baic date format (YYYY-MM-DD)\n",
        "date_1 = datetime.strptime(\"2025-02-28\", \"%Y-%m-%d\")\n",
        "\n",
        "print(date_1) #Output: 2025-02-28 00:00:00"
      ],
      "metadata": {
        "id": "Y49baBIfWKJo",
        "outputId": "3720111a-d3d8-4cf0-8e6a-7afdd6d30d3c",
        "colab": {
          "base_uri": "https://localhost:8080/"
        }
      },
      "execution_count": 29,
      "outputs": [
        {
          "output_type": "stream",
          "name": "stdout",
          "text": [
            "2025-02-28 00:00:00\n"
          ]
        }
      ]
    },
    {
      "cell_type": "markdown",
      "source": [
        "\n",
        "\n",
        "*  \n",
        "\n"
      ],
      "metadata": {
        "id": "dglf9MAgWZx1"
      }
    },
    {
      "cell_type": "code",
      "source": [
        "# Date with time (DD/MM/YYYY HH:MM:SS)\n",
        "date_2 = datetime.strptime(\"17/04/2025 14:30:20\", \"%d/%m/%Y %H:%M:%S\")\n",
        "\n",
        "print(date_2)  # Output: 2024-03-11 14:30:45"
      ],
      "metadata": {
        "id": "xcwTL8tCWhIr",
        "outputId": "da0b4ca0-03dc-45dc-f349-b751530de750",
        "colab": {
          "base_uri": "https://localhost:8080/"
        }
      },
      "execution_count": 27,
      "outputs": [
        {
          "output_type": "stream",
          "name": "stdout",
          "text": [
            "2025-04-17 14:30:20\n"
          ]
        }
      ]
    },
    {
      "cell_type": "markdown",
      "source": [
        "\n",
        "\n",
        "*   \n"
      ],
      "metadata": {
        "id": "pHLY6m8mXESz"
      }
    },
    {
      "cell_type": "code",
      "source": [
        "# Custom format (Month name, day, year)\n",
        "date_3 = datetime.strptime(\"March 11, 2024\", \"%B %d, %Y\")\n",
        "print(date_3)  # Output: 2024-03-11 00:00:00"
      ],
      "metadata": {
        "id": "KuSaKSNMXDSb",
        "outputId": "5a737528-f09e-48a5-ecb4-8413b25df5b2",
        "colab": {
          "base_uri": "https://localhost:8080/"
        }
      },
      "execution_count": 30,
      "outputs": [
        {
          "output_type": "stream",
          "name": "stdout",
          "text": [
            "2024-03-11 00:00:00\n"
          ]
        }
      ]
    },
    {
      "cell_type": "markdown",
      "source": [
        "\n",
        "\n",
        "*  \n"
      ],
      "metadata": {
        "id": "JfkTaZT8XIxc"
      }
    },
    {
      "cell_type": "code",
      "source": [
        "# Date with abbreviated month name\n",
        "date_4 = datetime.strptime(\"Mar 11, 2024\", \"%b %d, %Y\")\n",
        "print(date_4)  # Output: 2024-03-11 00:00:00"
      ],
      "metadata": {
        "id": "I9tIUwC_XJpk",
        "outputId": "88e62c8a-216d-40c2-f8f1-f825e84e8f20",
        "colab": {
          "base_uri": "https://localhost:8080/"
        }
      },
      "execution_count": 31,
      "outputs": [
        {
          "output_type": "stream",
          "name": "stdout",
          "text": [
            "2024-03-11 00:00:00\n"
          ]
        }
      ]
    },
    {
      "cell_type": "markdown",
      "source": [
        "\n",
        "\n",
        "*   \n"
      ],
      "metadata": {
        "id": "Kc1jI_0uXQnX"
      }
    },
    {
      "cell_type": "code",
      "source": [
        "# Using different separators\n",
        "date_5 = datetime.strptime(\"2024.03.11 - 08:15\", \"%Y.%m.%d - %H:%M\")\n",
        "\n",
        "print(date_5)  # Output: 2024-03-11 08:15:00"
      ],
      "metadata": {
        "id": "o69KX8pdXRaO",
        "outputId": "9d1660f8-1881-42d8-ed0b-2d597af5edb2",
        "colab": {
          "base_uri": "https://localhost:8080/"
        }
      },
      "execution_count": 32,
      "outputs": [
        {
          "output_type": "stream",
          "name": "stdout",
          "text": [
            "2024-03-11 08:15:00\n"
          ]
        }
      ]
    },
    {
      "cell_type": "markdown",
      "source": [
        "## 8.2 Fundamentals of time series"
      ],
      "metadata": {
        "id": "wHCeorq7XbIF"
      }
    },
    {
      "cell_type": "markdown",
      "source": [
        "\n",
        "\n",
        "*  \n"
      ],
      "metadata": {
        "id": "1CyIDwJWYX1K"
      }
    },
    {
      "cell_type": "code",
      "source": [
        "# Create a list of 6 dates\n",
        "dates = [datetime(2025, 10, 12) + timedelta(days=i *10) for i in range(10)] # Dates with a 10-day interval\n",
        "\n",
        "# Generate random values from a normal distribution\n",
        "values = np.random.standard_normal(10)\n",
        "\n",
        "# Create the pandas Series with dates as the index\n",
        "date_series = pd.Series(values, index=dates)\n",
        "\n",
        "date_series\n",
        "\n"
      ],
      "metadata": {
        "id": "NiMvss7pYaUJ",
        "outputId": "eeb28d1a-0900-4079-c1c9-fac50eec378d",
        "colab": {
          "base_uri": "https://localhost:8080/",
          "height": 398
        }
      },
      "execution_count": 41,
      "outputs": [
        {
          "output_type": "execute_result",
          "data": {
            "text/plain": [
              "2025-10-12   -0.622706\n",
              "2025-10-22   -0.405387\n",
              "2025-11-01   -0.957087\n",
              "2025-11-11   -0.243918\n",
              "2025-11-21   -0.873032\n",
              "2025-12-01   -0.113742\n",
              "2025-12-11   -1.143924\n",
              "2025-12-21   -1.834915\n",
              "2025-12-31    1.186504\n",
              "2026-01-10    0.369670\n",
              "dtype: float64"
            ],
            "text/html": [
              "<div>\n",
              "<style scoped>\n",
              "    .dataframe tbody tr th:only-of-type {\n",
              "        vertical-align: middle;\n",
              "    }\n",
              "\n",
              "    .dataframe tbody tr th {\n",
              "        vertical-align: top;\n",
              "    }\n",
              "\n",
              "    .dataframe thead th {\n",
              "        text-align: right;\n",
              "    }\n",
              "</style>\n",
              "<table border=\"1\" class=\"dataframe\">\n",
              "  <thead>\n",
              "    <tr style=\"text-align: right;\">\n",
              "      <th></th>\n",
              "      <th>0</th>\n",
              "    </tr>\n",
              "  </thead>\n",
              "  <tbody>\n",
              "    <tr>\n",
              "      <th>2025-10-12</th>\n",
              "      <td>-0.622706</td>\n",
              "    </tr>\n",
              "    <tr>\n",
              "      <th>2025-10-22</th>\n",
              "      <td>-0.405387</td>\n",
              "    </tr>\n",
              "    <tr>\n",
              "      <th>2025-11-01</th>\n",
              "      <td>-0.957087</td>\n",
              "    </tr>\n",
              "    <tr>\n",
              "      <th>2025-11-11</th>\n",
              "      <td>-0.243918</td>\n",
              "    </tr>\n",
              "    <tr>\n",
              "      <th>2025-11-21</th>\n",
              "      <td>-0.873032</td>\n",
              "    </tr>\n",
              "    <tr>\n",
              "      <th>2025-12-01</th>\n",
              "      <td>-0.113742</td>\n",
              "    </tr>\n",
              "    <tr>\n",
              "      <th>2025-12-11</th>\n",
              "      <td>-1.143924</td>\n",
              "    </tr>\n",
              "    <tr>\n",
              "      <th>2025-12-21</th>\n",
              "      <td>-1.834915</td>\n",
              "    </tr>\n",
              "    <tr>\n",
              "      <th>2025-12-31</th>\n",
              "      <td>1.186504</td>\n",
              "    </tr>\n",
              "    <tr>\n",
              "      <th>2026-01-10</th>\n",
              "      <td>0.369670</td>\n",
              "    </tr>\n",
              "  </tbody>\n",
              "</table>\n",
              "</div><br><label><b>dtype:</b> float64</label>"
            ]
          },
          "metadata": {},
          "execution_count": 41
        }
      ]
    },
    {
      "cell_type": "code",
      "source": [
        "date_series.index  # Access the index (dates) of the pandas Series"
      ],
      "metadata": {
        "id": "_93yvo1AY3GL",
        "outputId": "5448a15d-4bae-4ea2-8e89-07d3ed52098e",
        "colab": {
          "base_uri": "https://localhost:8080/"
        }
      },
      "execution_count": 36,
      "outputs": [
        {
          "output_type": "execute_result",
          "data": {
            "text/plain": [
              "DatetimeIndex(['2025-10-12', '2025-10-22', '2025-11-01', '2025-11-11',\n",
              "               '2025-11-21', '2025-12-01', '2025-12-11', '2025-12-21',\n",
              "               '2025-12-31', '2026-01-10'],\n",
              "              dtype='datetime64[ns]', freq=None)"
            ]
          },
          "metadata": {},
          "execution_count": 36
        }
      ]
    },
    {
      "cell_type": "code",
      "source": [
        "date_series + date_series[::3]  # Add every third value from the Series to the entire Series"
      ],
      "metadata": {
        "id": "pPNcB2arY-4_",
        "outputId": "55af0507-2b2f-4e46-ce28-68ebc66134f3",
        "colab": {
          "base_uri": "https://localhost:8080/",
          "height": 398
        }
      },
      "execution_count": 39,
      "outputs": [
        {
          "output_type": "execute_result",
          "data": {
            "text/plain": [
              "2025-10-12   -0.117194\n",
              "2025-10-22         NaN\n",
              "2025-11-01         NaN\n",
              "2025-11-11    0.344100\n",
              "2025-11-21         NaN\n",
              "2025-12-01         NaN\n",
              "2025-12-11   -1.696384\n",
              "2025-12-21         NaN\n",
              "2025-12-31         NaN\n",
              "2026-01-10   -2.246206\n",
              "dtype: float64"
            ],
            "text/html": [
              "<div>\n",
              "<style scoped>\n",
              "    .dataframe tbody tr th:only-of-type {\n",
              "        vertical-align: middle;\n",
              "    }\n",
              "\n",
              "    .dataframe tbody tr th {\n",
              "        vertical-align: top;\n",
              "    }\n",
              "\n",
              "    .dataframe thead th {\n",
              "        text-align: right;\n",
              "    }\n",
              "</style>\n",
              "<table border=\"1\" class=\"dataframe\">\n",
              "  <thead>\n",
              "    <tr style=\"text-align: right;\">\n",
              "      <th></th>\n",
              "      <th>0</th>\n",
              "    </tr>\n",
              "  </thead>\n",
              "  <tbody>\n",
              "    <tr>\n",
              "      <th>2025-10-12</th>\n",
              "      <td>-0.117194</td>\n",
              "    </tr>\n",
              "    <tr>\n",
              "      <th>2025-10-22</th>\n",
              "      <td>NaN</td>\n",
              "    </tr>\n",
              "    <tr>\n",
              "      <th>2025-11-01</th>\n",
              "      <td>NaN</td>\n",
              "    </tr>\n",
              "    <tr>\n",
              "      <th>2025-11-11</th>\n",
              "      <td>0.344100</td>\n",
              "    </tr>\n",
              "    <tr>\n",
              "      <th>2025-11-21</th>\n",
              "      <td>NaN</td>\n",
              "    </tr>\n",
              "    <tr>\n",
              "      <th>2025-12-01</th>\n",
              "      <td>NaN</td>\n",
              "    </tr>\n",
              "    <tr>\n",
              "      <th>2025-12-11</th>\n",
              "      <td>-1.696384</td>\n",
              "    </tr>\n",
              "    <tr>\n",
              "      <th>2025-12-21</th>\n",
              "      <td>NaN</td>\n",
              "    </tr>\n",
              "    <tr>\n",
              "      <th>2025-12-31</th>\n",
              "      <td>NaN</td>\n",
              "    </tr>\n",
              "    <tr>\n",
              "      <th>2026-01-10</th>\n",
              "      <td>-2.246206</td>\n",
              "    </tr>\n",
              "  </tbody>\n",
              "</table>\n",
              "</div><br><label><b>dtype:</b> float64</label>"
            ]
          },
          "metadata": {},
          "execution_count": 39
        }
      ]
    },
    {
      "cell_type": "code",
      "source": [
        "date_series['2025-11-11']  # Access the value in the Series for the date '2025-11-11'"
      ],
      "metadata": {
        "id": "ERb1cZPfZKER",
        "outputId": "c420bc0f-c6a0-4175-aa86-12f9b9a4f077",
        "colab": {
          "base_uri": "https://localhost:8080/"
        }
      },
      "execution_count": 43,
      "outputs": [
        {
          "output_type": "execute_result",
          "data": {
            "text/plain": [
              "-0.24391833058500229"
            ]
          },
          "metadata": {},
          "execution_count": 43
        }
      ]
    },
    {
      "cell_type": "markdown",
      "source": [
        "\n",
        "\n",
        "*   \n",
        "\n"
      ],
      "metadata": {
        "id": "P18m5rdDZXto"
      }
    },
    {
      "cell_type": "code",
      "source": [
        "# Create a pandas Series with 1000 random values from a standard normal distribution\n",
        "# The index is a date range starting from '2025-01-01' with 1000 periods\n",
        "date_series_1000 = pd.Series(np.random.standard_normal(1000), index=pd.date_range('2025-01-01', periods=1000))\n",
        "\n",
        "date_series_1000  # Output the Series with the generated dates and random values"
      ],
      "metadata": {
        "id": "U9VH8Tk7ZYqH",
        "outputId": "822637a3-26ef-46aa-b78e-318c7d9adeaa",
        "colab": {
          "base_uri": "https://localhost:8080/",
          "height": 458
        }
      },
      "execution_count": 45,
      "outputs": [
        {
          "output_type": "execute_result",
          "data": {
            "text/plain": [
              "2025-01-01    0.824338\n",
              "2025-01-02   -0.525182\n",
              "2025-01-03    0.251120\n",
              "2025-01-04   -1.684837\n",
              "2025-01-05   -1.410256\n",
              "                ...   \n",
              "2027-09-23    0.720776\n",
              "2027-09-24    0.914825\n",
              "2027-09-25   -0.327021\n",
              "2027-09-26   -1.876978\n",
              "2027-09-27    1.105071\n",
              "Freq: D, Length: 1000, dtype: float64"
            ],
            "text/html": [
              "<div>\n",
              "<style scoped>\n",
              "    .dataframe tbody tr th:only-of-type {\n",
              "        vertical-align: middle;\n",
              "    }\n",
              "\n",
              "    .dataframe tbody tr th {\n",
              "        vertical-align: top;\n",
              "    }\n",
              "\n",
              "    .dataframe thead th {\n",
              "        text-align: right;\n",
              "    }\n",
              "</style>\n",
              "<table border=\"1\" class=\"dataframe\">\n",
              "  <thead>\n",
              "    <tr style=\"text-align: right;\">\n",
              "      <th></th>\n",
              "      <th>0</th>\n",
              "    </tr>\n",
              "  </thead>\n",
              "  <tbody>\n",
              "    <tr>\n",
              "      <th>2025-01-01</th>\n",
              "      <td>0.824338</td>\n",
              "    </tr>\n",
              "    <tr>\n",
              "      <th>2025-01-02</th>\n",
              "      <td>-0.525182</td>\n",
              "    </tr>\n",
              "    <tr>\n",
              "      <th>2025-01-03</th>\n",
              "      <td>0.251120</td>\n",
              "    </tr>\n",
              "    <tr>\n",
              "      <th>2025-01-04</th>\n",
              "      <td>-1.684837</td>\n",
              "    </tr>\n",
              "    <tr>\n",
              "      <th>2025-01-05</th>\n",
              "      <td>-1.410256</td>\n",
              "    </tr>\n",
              "    <tr>\n",
              "      <th>...</th>\n",
              "      <td>...</td>\n",
              "    </tr>\n",
              "    <tr>\n",
              "      <th>2027-09-23</th>\n",
              "      <td>0.720776</td>\n",
              "    </tr>\n",
              "    <tr>\n",
              "      <th>2027-09-24</th>\n",
              "      <td>0.914825</td>\n",
              "    </tr>\n",
              "    <tr>\n",
              "      <th>2027-09-25</th>\n",
              "      <td>-0.327021</td>\n",
              "    </tr>\n",
              "    <tr>\n",
              "      <th>2027-09-26</th>\n",
              "      <td>-1.876978</td>\n",
              "    </tr>\n",
              "    <tr>\n",
              "      <th>2027-09-27</th>\n",
              "      <td>1.105071</td>\n",
              "    </tr>\n",
              "  </tbody>\n",
              "</table>\n",
              "<p>1000 rows × 1 columns</p>\n",
              "</div><br><label><b>dtype:</b> float64</label>"
            ]
          },
          "metadata": {},
          "execution_count": 45
        }
      ]
    },
    {
      "cell_type": "code",
      "source": [
        "date_series_1000['2026']  # Access the values in the Series for the year 2026"
      ],
      "metadata": {
        "id": "Cl-zanjYZrzE",
        "outputId": "43867f17-22c2-4d65-8958-0185b9424725",
        "colab": {
          "base_uri": "https://localhost:8080/",
          "height": 458
        }
      },
      "execution_count": 47,
      "outputs": [
        {
          "output_type": "execute_result",
          "data": {
            "text/plain": [
              "2026-01-01   -0.734096\n",
              "2026-01-02   -0.028901\n",
              "2026-01-03    0.496581\n",
              "2026-01-04    0.076928\n",
              "2026-01-05   -0.093201\n",
              "                ...   \n",
              "2026-12-27    0.308094\n",
              "2026-12-28   -0.475792\n",
              "2026-12-29    0.598617\n",
              "2026-12-30   -0.776443\n",
              "2026-12-31   -0.191543\n",
              "Freq: D, Length: 365, dtype: float64"
            ],
            "text/html": [
              "<div>\n",
              "<style scoped>\n",
              "    .dataframe tbody tr th:only-of-type {\n",
              "        vertical-align: middle;\n",
              "    }\n",
              "\n",
              "    .dataframe tbody tr th {\n",
              "        vertical-align: top;\n",
              "    }\n",
              "\n",
              "    .dataframe thead th {\n",
              "        text-align: right;\n",
              "    }\n",
              "</style>\n",
              "<table border=\"1\" class=\"dataframe\">\n",
              "  <thead>\n",
              "    <tr style=\"text-align: right;\">\n",
              "      <th></th>\n",
              "      <th>0</th>\n",
              "    </tr>\n",
              "  </thead>\n",
              "  <tbody>\n",
              "    <tr>\n",
              "      <th>2026-01-01</th>\n",
              "      <td>-0.734096</td>\n",
              "    </tr>\n",
              "    <tr>\n",
              "      <th>2026-01-02</th>\n",
              "      <td>-0.028901</td>\n",
              "    </tr>\n",
              "    <tr>\n",
              "      <th>2026-01-03</th>\n",
              "      <td>0.496581</td>\n",
              "    </tr>\n",
              "    <tr>\n",
              "      <th>2026-01-04</th>\n",
              "      <td>0.076928</td>\n",
              "    </tr>\n",
              "    <tr>\n",
              "      <th>2026-01-05</th>\n",
              "      <td>-0.093201</td>\n",
              "    </tr>\n",
              "    <tr>\n",
              "      <th>...</th>\n",
              "      <td>...</td>\n",
              "    </tr>\n",
              "    <tr>\n",
              "      <th>2026-12-27</th>\n",
              "      <td>0.308094</td>\n",
              "    </tr>\n",
              "    <tr>\n",
              "      <th>2026-12-28</th>\n",
              "      <td>-0.475792</td>\n",
              "    </tr>\n",
              "    <tr>\n",
              "      <th>2026-12-29</th>\n",
              "      <td>0.598617</td>\n",
              "    </tr>\n",
              "    <tr>\n",
              "      <th>2026-12-30</th>\n",
              "      <td>-0.776443</td>\n",
              "    </tr>\n",
              "    <tr>\n",
              "      <th>2026-12-31</th>\n",
              "      <td>-0.191543</td>\n",
              "    </tr>\n",
              "  </tbody>\n",
              "</table>\n",
              "<p>365 rows × 1 columns</p>\n",
              "</div><br><label><b>dtype:</b> float64</label>"
            ]
          },
          "metadata": {},
          "execution_count": 47
        }
      ]
    },
    {
      "cell_type": "code",
      "source": [
        "date_series_1000['2025-10']  # Access the values in the Series for the month of October 2025"
      ],
      "metadata": {
        "id": "zHt1gHykZxid",
        "outputId": "ae1df0ec-ad87-40fd-f6c6-e3f47c7a7a12",
        "colab": {
          "base_uri": "https://localhost:8080/",
          "height": 1000
        }
      },
      "execution_count": 49,
      "outputs": [
        {
          "output_type": "execute_result",
          "data": {
            "text/plain": [
              "2025-10-01   -0.054827\n",
              "2025-10-02   -0.016064\n",
              "2025-10-03    0.322522\n",
              "2025-10-04    0.750339\n",
              "2025-10-05   -1.315368\n",
              "2025-10-06   -0.111490\n",
              "2025-10-07   -0.113109\n",
              "2025-10-08    2.010557\n",
              "2025-10-09    0.871584\n",
              "2025-10-10   -0.010349\n",
              "2025-10-11   -1.361393\n",
              "2025-10-12   -1.755175\n",
              "2025-10-13    1.497119\n",
              "2025-10-14   -0.722212\n",
              "2025-10-15    0.009840\n",
              "2025-10-16   -0.730760\n",
              "2025-10-17    0.593147\n",
              "2025-10-18    1.596815\n",
              "2025-10-19    2.183848\n",
              "2025-10-20    0.639015\n",
              "2025-10-21    1.808713\n",
              "2025-10-22    0.114641\n",
              "2025-10-23   -1.668367\n",
              "2025-10-24   -0.588697\n",
              "2025-10-25   -0.561023\n",
              "2025-10-26    0.088691\n",
              "2025-10-27    0.259758\n",
              "2025-10-28   -0.031511\n",
              "2025-10-29   -1.315710\n",
              "2025-10-30   -0.299301\n",
              "2025-10-31   -0.670259\n",
              "Freq: D, dtype: float64"
            ],
            "text/html": [
              "<div>\n",
              "<style scoped>\n",
              "    .dataframe tbody tr th:only-of-type {\n",
              "        vertical-align: middle;\n",
              "    }\n",
              "\n",
              "    .dataframe tbody tr th {\n",
              "        vertical-align: top;\n",
              "    }\n",
              "\n",
              "    .dataframe thead th {\n",
              "        text-align: right;\n",
              "    }\n",
              "</style>\n",
              "<table border=\"1\" class=\"dataframe\">\n",
              "  <thead>\n",
              "    <tr style=\"text-align: right;\">\n",
              "      <th></th>\n",
              "      <th>0</th>\n",
              "    </tr>\n",
              "  </thead>\n",
              "  <tbody>\n",
              "    <tr>\n",
              "      <th>2025-10-01</th>\n",
              "      <td>-0.054827</td>\n",
              "    </tr>\n",
              "    <tr>\n",
              "      <th>2025-10-02</th>\n",
              "      <td>-0.016064</td>\n",
              "    </tr>\n",
              "    <tr>\n",
              "      <th>2025-10-03</th>\n",
              "      <td>0.322522</td>\n",
              "    </tr>\n",
              "    <tr>\n",
              "      <th>2025-10-04</th>\n",
              "      <td>0.750339</td>\n",
              "    </tr>\n",
              "    <tr>\n",
              "      <th>2025-10-05</th>\n",
              "      <td>-1.315368</td>\n",
              "    </tr>\n",
              "    <tr>\n",
              "      <th>2025-10-06</th>\n",
              "      <td>-0.111490</td>\n",
              "    </tr>\n",
              "    <tr>\n",
              "      <th>2025-10-07</th>\n",
              "      <td>-0.113109</td>\n",
              "    </tr>\n",
              "    <tr>\n",
              "      <th>2025-10-08</th>\n",
              "      <td>2.010557</td>\n",
              "    </tr>\n",
              "    <tr>\n",
              "      <th>2025-10-09</th>\n",
              "      <td>0.871584</td>\n",
              "    </tr>\n",
              "    <tr>\n",
              "      <th>2025-10-10</th>\n",
              "      <td>-0.010349</td>\n",
              "    </tr>\n",
              "    <tr>\n",
              "      <th>2025-10-11</th>\n",
              "      <td>-1.361393</td>\n",
              "    </tr>\n",
              "    <tr>\n",
              "      <th>2025-10-12</th>\n",
              "      <td>-1.755175</td>\n",
              "    </tr>\n",
              "    <tr>\n",
              "      <th>2025-10-13</th>\n",
              "      <td>1.497119</td>\n",
              "    </tr>\n",
              "    <tr>\n",
              "      <th>2025-10-14</th>\n",
              "      <td>-0.722212</td>\n",
              "    </tr>\n",
              "    <tr>\n",
              "      <th>2025-10-15</th>\n",
              "      <td>0.009840</td>\n",
              "    </tr>\n",
              "    <tr>\n",
              "      <th>2025-10-16</th>\n",
              "      <td>-0.730760</td>\n",
              "    </tr>\n",
              "    <tr>\n",
              "      <th>2025-10-17</th>\n",
              "      <td>0.593147</td>\n",
              "    </tr>\n",
              "    <tr>\n",
              "      <th>2025-10-18</th>\n",
              "      <td>1.596815</td>\n",
              "    </tr>\n",
              "    <tr>\n",
              "      <th>2025-10-19</th>\n",
              "      <td>2.183848</td>\n",
              "    </tr>\n",
              "    <tr>\n",
              "      <th>2025-10-20</th>\n",
              "      <td>0.639015</td>\n",
              "    </tr>\n",
              "    <tr>\n",
              "      <th>2025-10-21</th>\n",
              "      <td>1.808713</td>\n",
              "    </tr>\n",
              "    <tr>\n",
              "      <th>2025-10-22</th>\n",
              "      <td>0.114641</td>\n",
              "    </tr>\n",
              "    <tr>\n",
              "      <th>2025-10-23</th>\n",
              "      <td>-1.668367</td>\n",
              "    </tr>\n",
              "    <tr>\n",
              "      <th>2025-10-24</th>\n",
              "      <td>-0.588697</td>\n",
              "    </tr>\n",
              "    <tr>\n",
              "      <th>2025-10-25</th>\n",
              "      <td>-0.561023</td>\n",
              "    </tr>\n",
              "    <tr>\n",
              "      <th>2025-10-26</th>\n",
              "      <td>0.088691</td>\n",
              "    </tr>\n",
              "    <tr>\n",
              "      <th>2025-10-27</th>\n",
              "      <td>0.259758</td>\n",
              "    </tr>\n",
              "    <tr>\n",
              "      <th>2025-10-28</th>\n",
              "      <td>-0.031511</td>\n",
              "    </tr>\n",
              "    <tr>\n",
              "      <th>2025-10-29</th>\n",
              "      <td>-1.315710</td>\n",
              "    </tr>\n",
              "    <tr>\n",
              "      <th>2025-10-30</th>\n",
              "      <td>-0.299301</td>\n",
              "    </tr>\n",
              "    <tr>\n",
              "      <th>2025-10-31</th>\n",
              "      <td>-0.670259</td>\n",
              "    </tr>\n",
              "  </tbody>\n",
              "</table>\n",
              "</div><br><label><b>dtype:</b> float64</label>"
            ]
          },
          "metadata": {},
          "execution_count": 49
        }
      ]
    },
    {
      "cell_type": "code",
      "source": [
        "date_series_1000[datetime(2027, 2, 10):]  # Access values in the Series from February 10, 2027 onwards"
      ],
      "metadata": {
        "id": "PuLGMarMZ6Vl",
        "outputId": "afc48c21-6304-49e8-dbd7-d9a05c1c1894",
        "colab": {
          "base_uri": "https://localhost:8080/",
          "height": 458
        }
      },
      "execution_count": 56,
      "outputs": [
        {
          "output_type": "execute_result",
          "data": {
            "text/plain": [
              "2027-02-10   -0.901503\n",
              "2027-02-11   -1.196289\n",
              "2027-02-12    0.539017\n",
              "2027-02-13   -0.658385\n",
              "2027-02-14    1.276504\n",
              "                ...   \n",
              "2027-09-23    0.720776\n",
              "2027-09-24    0.914825\n",
              "2027-09-25   -0.327021\n",
              "2027-09-26   -1.876978\n",
              "2027-09-27    1.105071\n",
              "Freq: D, Length: 230, dtype: float64"
            ],
            "text/html": [
              "<div>\n",
              "<style scoped>\n",
              "    .dataframe tbody tr th:only-of-type {\n",
              "        vertical-align: middle;\n",
              "    }\n",
              "\n",
              "    .dataframe tbody tr th {\n",
              "        vertical-align: top;\n",
              "    }\n",
              "\n",
              "    .dataframe thead th {\n",
              "        text-align: right;\n",
              "    }\n",
              "</style>\n",
              "<table border=\"1\" class=\"dataframe\">\n",
              "  <thead>\n",
              "    <tr style=\"text-align: right;\">\n",
              "      <th></th>\n",
              "      <th>0</th>\n",
              "    </tr>\n",
              "  </thead>\n",
              "  <tbody>\n",
              "    <tr>\n",
              "      <th>2027-02-10</th>\n",
              "      <td>-0.901503</td>\n",
              "    </tr>\n",
              "    <tr>\n",
              "      <th>2027-02-11</th>\n",
              "      <td>-1.196289</td>\n",
              "    </tr>\n",
              "    <tr>\n",
              "      <th>2027-02-12</th>\n",
              "      <td>0.539017</td>\n",
              "    </tr>\n",
              "    <tr>\n",
              "      <th>2027-02-13</th>\n",
              "      <td>-0.658385</td>\n",
              "    </tr>\n",
              "    <tr>\n",
              "      <th>2027-02-14</th>\n",
              "      <td>1.276504</td>\n",
              "    </tr>\n",
              "    <tr>\n",
              "      <th>...</th>\n",
              "      <td>...</td>\n",
              "    </tr>\n",
              "    <tr>\n",
              "      <th>2027-09-23</th>\n",
              "      <td>0.720776</td>\n",
              "    </tr>\n",
              "    <tr>\n",
              "      <th>2027-09-24</th>\n",
              "      <td>0.914825</td>\n",
              "    </tr>\n",
              "    <tr>\n",
              "      <th>2027-09-25</th>\n",
              "      <td>-0.327021</td>\n",
              "    </tr>\n",
              "    <tr>\n",
              "      <th>2027-09-26</th>\n",
              "      <td>-1.876978</td>\n",
              "    </tr>\n",
              "    <tr>\n",
              "      <th>2027-09-27</th>\n",
              "      <td>1.105071</td>\n",
              "    </tr>\n",
              "  </tbody>\n",
              "</table>\n",
              "<p>230 rows × 1 columns</p>\n",
              "</div><br><label><b>dtype:</b> float64</label>"
            ]
          },
          "metadata": {},
          "execution_count": 56
        }
      ]
    },
    {
      "cell_type": "code",
      "source": [
        "date_series_1000[datetime(2027, 2, 10):datetime(2027, 8, 20)]  # Access values in the Series between February 10, 2027 and August 20, 2027"
      ],
      "metadata": {
        "id": "lXO2DucYaMsN",
        "outputId": "88bb53b1-e432-4b1a-ec8a-dfd40fe52272",
        "colab": {
          "base_uri": "https://localhost:8080/",
          "height": 458
        }
      },
      "execution_count": 60,
      "outputs": [
        {
          "output_type": "execute_result",
          "data": {
            "text/plain": [
              "2027-02-10   -0.901503\n",
              "2027-02-11   -1.196289\n",
              "2027-02-12    0.539017\n",
              "2027-02-13   -0.658385\n",
              "2027-02-14    1.276504\n",
              "                ...   \n",
              "2027-08-16   -0.614316\n",
              "2027-08-17    0.561951\n",
              "2027-08-18    0.064635\n",
              "2027-08-19   -0.470642\n",
              "2027-08-20    0.616957\n",
              "Freq: D, Length: 192, dtype: float64"
            ],
            "text/html": [
              "<div>\n",
              "<style scoped>\n",
              "    .dataframe tbody tr th:only-of-type {\n",
              "        vertical-align: middle;\n",
              "    }\n",
              "\n",
              "    .dataframe tbody tr th {\n",
              "        vertical-align: top;\n",
              "    }\n",
              "\n",
              "    .dataframe thead th {\n",
              "        text-align: right;\n",
              "    }\n",
              "</style>\n",
              "<table border=\"1\" class=\"dataframe\">\n",
              "  <thead>\n",
              "    <tr style=\"text-align: right;\">\n",
              "      <th></th>\n",
              "      <th>0</th>\n",
              "    </tr>\n",
              "  </thead>\n",
              "  <tbody>\n",
              "    <tr>\n",
              "      <th>2027-02-10</th>\n",
              "      <td>-0.901503</td>\n",
              "    </tr>\n",
              "    <tr>\n",
              "      <th>2027-02-11</th>\n",
              "      <td>-1.196289</td>\n",
              "    </tr>\n",
              "    <tr>\n",
              "      <th>2027-02-12</th>\n",
              "      <td>0.539017</td>\n",
              "    </tr>\n",
              "    <tr>\n",
              "      <th>2027-02-13</th>\n",
              "      <td>-0.658385</td>\n",
              "    </tr>\n",
              "    <tr>\n",
              "      <th>2027-02-14</th>\n",
              "      <td>1.276504</td>\n",
              "    </tr>\n",
              "    <tr>\n",
              "      <th>...</th>\n",
              "      <td>...</td>\n",
              "    </tr>\n",
              "    <tr>\n",
              "      <th>2027-08-16</th>\n",
              "      <td>-0.614316</td>\n",
              "    </tr>\n",
              "    <tr>\n",
              "      <th>2027-08-17</th>\n",
              "      <td>0.561951</td>\n",
              "    </tr>\n",
              "    <tr>\n",
              "      <th>2027-08-18</th>\n",
              "      <td>0.064635</td>\n",
              "    </tr>\n",
              "    <tr>\n",
              "      <th>2027-08-19</th>\n",
              "      <td>-0.470642</td>\n",
              "    </tr>\n",
              "    <tr>\n",
              "      <th>2027-08-20</th>\n",
              "      <td>0.616957</td>\n",
              "    </tr>\n",
              "  </tbody>\n",
              "</table>\n",
              "<p>192 rows × 1 columns</p>\n",
              "</div><br><label><b>dtype:</b> float64</label>"
            ]
          },
          "metadata": {},
          "execution_count": 60
        }
      ]
    },
    {
      "cell_type": "code",
      "source": [
        "date_series_1000['2025-12-01': '2026-05-29']  # Access values in the Series from December 1, 2025 to May 29, 2026"
      ],
      "metadata": {
        "id": "LDF_FUXdaV-0",
        "outputId": "4fe91b3c-2dd1-44eb-f082-f20e13192417",
        "colab": {
          "base_uri": "https://localhost:8080/",
          "height": 458
        }
      },
      "execution_count": 62,
      "outputs": [
        {
          "output_type": "execute_result",
          "data": {
            "text/plain": [
              "2025-12-01   -0.060199\n",
              "2025-12-02   -0.556266\n",
              "2025-12-03   -0.026696\n",
              "2025-12-04    0.584836\n",
              "2025-12-05   -0.031443\n",
              "                ...   \n",
              "2026-05-25    0.216300\n",
              "2026-05-26    0.997105\n",
              "2026-05-27   -0.147117\n",
              "2026-05-28    1.363876\n",
              "2026-05-29    1.404370\n",
              "Freq: D, Length: 180, dtype: float64"
            ],
            "text/html": [
              "<div>\n",
              "<style scoped>\n",
              "    .dataframe tbody tr th:only-of-type {\n",
              "        vertical-align: middle;\n",
              "    }\n",
              "\n",
              "    .dataframe tbody tr th {\n",
              "        vertical-align: top;\n",
              "    }\n",
              "\n",
              "    .dataframe thead th {\n",
              "        text-align: right;\n",
              "    }\n",
              "</style>\n",
              "<table border=\"1\" class=\"dataframe\">\n",
              "  <thead>\n",
              "    <tr style=\"text-align: right;\">\n",
              "      <th></th>\n",
              "      <th>0</th>\n",
              "    </tr>\n",
              "  </thead>\n",
              "  <tbody>\n",
              "    <tr>\n",
              "      <th>2025-12-01</th>\n",
              "      <td>-0.060199</td>\n",
              "    </tr>\n",
              "    <tr>\n",
              "      <th>2025-12-02</th>\n",
              "      <td>-0.556266</td>\n",
              "    </tr>\n",
              "    <tr>\n",
              "      <th>2025-12-03</th>\n",
              "      <td>-0.026696</td>\n",
              "    </tr>\n",
              "    <tr>\n",
              "      <th>2025-12-04</th>\n",
              "      <td>0.584836</td>\n",
              "    </tr>\n",
              "    <tr>\n",
              "      <th>2025-12-05</th>\n",
              "      <td>-0.031443</td>\n",
              "    </tr>\n",
              "    <tr>\n",
              "      <th>...</th>\n",
              "      <td>...</td>\n",
              "    </tr>\n",
              "    <tr>\n",
              "      <th>2026-05-25</th>\n",
              "      <td>0.216300</td>\n",
              "    </tr>\n",
              "    <tr>\n",
              "      <th>2026-05-26</th>\n",
              "      <td>0.997105</td>\n",
              "    </tr>\n",
              "    <tr>\n",
              "      <th>2026-05-27</th>\n",
              "      <td>-0.147117</td>\n",
              "    </tr>\n",
              "    <tr>\n",
              "      <th>2026-05-28</th>\n",
              "      <td>1.363876</td>\n",
              "    </tr>\n",
              "    <tr>\n",
              "      <th>2026-05-29</th>\n",
              "      <td>1.404370</td>\n",
              "    </tr>\n",
              "  </tbody>\n",
              "</table>\n",
              "<p>180 rows × 1 columns</p>\n",
              "</div><br><label><b>dtype:</b> float64</label>"
            ]
          },
          "metadata": {},
          "execution_count": 62
        }
      ]
    },
    {
      "cell_type": "code",
      "source": [
        "date_series_1000.is_unique  # Check if the index of the Series has unique values"
      ],
      "metadata": {
        "id": "p8wVWs-lakE3",
        "outputId": "1080777e-06ac-44e8-9b7c-87ed867cfdaa",
        "colab": {
          "base_uri": "https://localhost:8080/"
        }
      },
      "execution_count": 70,
      "outputs": [
        {
          "output_type": "execute_result",
          "data": {
            "text/plain": [
              "True"
            ]
          },
          "metadata": {},
          "execution_count": 70
        }
      ]
    },
    {
      "cell_type": "markdown",
      "source": [
        "\n",
        "\n",
        "*\n"
      ],
      "metadata": {
        "id": "7ZeSbpEyayhU"
      }
    },
    {
      "cell_type": "code",
      "source": [
        "# Create a list of dates with duplicates\n",
        "dates_with_duplicates = [datetime(2025, 10, 12) + timedelta(days=i*5) for i in range(6)]\n",
        "\n",
        "# Add duplicates to the list\n",
        "dates_with_duplicates.extend([datetime(2025, 10, 12), datetime(2025, 10, 17)])\n",
        "\n",
        "# Create a pandas Series with random values\n",
        "date_series_with_duplicates = pd.Series(np.random.standard_normal(len(dates_with_duplicates)), index=dates_with_duplicates)\n",
        "\n",
        "date_series_with_duplicates\n"
      ],
      "metadata": {
        "id": "QqVvNlvRazZy",
        "outputId": "3de76c87-edc5-4c0c-ddc0-34df3be9c2b2",
        "colab": {
          "base_uri": "https://localhost:8080/",
          "height": 335
        }
      },
      "execution_count": 67,
      "outputs": [
        {
          "output_type": "execute_result",
          "data": {
            "text/plain": [
              "2025-10-12    1.014366\n",
              "2025-10-17   -0.966826\n",
              "2025-10-22    0.880103\n",
              "2025-10-27   -0.131047\n",
              "2025-11-01    0.126648\n",
              "2025-11-06   -0.821130\n",
              "2025-10-12   -0.430830\n",
              "2025-10-17   -0.596395\n",
              "dtype: float64"
            ],
            "text/html": [
              "<div>\n",
              "<style scoped>\n",
              "    .dataframe tbody tr th:only-of-type {\n",
              "        vertical-align: middle;\n",
              "    }\n",
              "\n",
              "    .dataframe tbody tr th {\n",
              "        vertical-align: top;\n",
              "    }\n",
              "\n",
              "    .dataframe thead th {\n",
              "        text-align: right;\n",
              "    }\n",
              "</style>\n",
              "<table border=\"1\" class=\"dataframe\">\n",
              "  <thead>\n",
              "    <tr style=\"text-align: right;\">\n",
              "      <th></th>\n",
              "      <th>0</th>\n",
              "    </tr>\n",
              "  </thead>\n",
              "  <tbody>\n",
              "    <tr>\n",
              "      <th>2025-10-12</th>\n",
              "      <td>1.014366</td>\n",
              "    </tr>\n",
              "    <tr>\n",
              "      <th>2025-10-17</th>\n",
              "      <td>-0.966826</td>\n",
              "    </tr>\n",
              "    <tr>\n",
              "      <th>2025-10-22</th>\n",
              "      <td>0.880103</td>\n",
              "    </tr>\n",
              "    <tr>\n",
              "      <th>2025-10-27</th>\n",
              "      <td>-0.131047</td>\n",
              "    </tr>\n",
              "    <tr>\n",
              "      <th>2025-11-01</th>\n",
              "      <td>0.126648</td>\n",
              "    </tr>\n",
              "    <tr>\n",
              "      <th>2025-11-06</th>\n",
              "      <td>-0.821130</td>\n",
              "    </tr>\n",
              "    <tr>\n",
              "      <th>2025-10-12</th>\n",
              "      <td>-0.430830</td>\n",
              "    </tr>\n",
              "    <tr>\n",
              "      <th>2025-10-17</th>\n",
              "      <td>-0.596395</td>\n",
              "    </tr>\n",
              "  </tbody>\n",
              "</table>\n",
              "</div><br><label><b>dtype:</b> float64</label>"
            ]
          },
          "metadata": {},
          "execution_count": 67
        }
      ]
    },
    {
      "cell_type": "code",
      "source": [
        "date_series_with_duplicates.index.is_unique  # Check if the index of the Series with duplicates has unique values"
      ],
      "metadata": {
        "id": "yWLcftw5bB84",
        "outputId": "016a8993-2a21-4831-fd64-1597521b5e8c",
        "colab": {
          "base_uri": "https://localhost:8080/"
        }
      },
      "execution_count": 72,
      "outputs": [
        {
          "output_type": "execute_result",
          "data": {
            "text/plain": [
              "False"
            ]
          },
          "metadata": {},
          "execution_count": 72
        }
      ]
    },
    {
      "cell_type": "code",
      "source": [
        "# Find the duplicated dates in the index\n",
        "duplicates = date_series_with_duplicates.index[date_series_with_duplicates.index.duplicated()]\n",
        "\n",
        "print(duplicates)"
      ],
      "metadata": {
        "id": "KZT5UkpubU2c",
        "outputId": "4519f0f1-a53d-4b3c-a6ec-615fce88bc99",
        "colab": {
          "base_uri": "https://localhost:8080/"
        }
      },
      "execution_count": 73,
      "outputs": [
        {
          "output_type": "stream",
          "name": "stdout",
          "text": [
            "DatetimeIndex(['2025-10-12', '2025-10-17'], dtype='datetime64[ns]', freq=None)\n"
          ]
        }
      ]
    },
    {
      "cell_type": "code",
      "source": [
        "# Find the dates that appear more than once\n",
        "duplicated_dates = date_series_with_duplicates.index[date_series_with_duplicates.index.isin(duplicates)]\n",
        "\n",
        "print(duplicated_dates)\n"
      ],
      "metadata": {
        "id": "cctLj7F3bW3q",
        "outputId": "eb5f18d8-2e8d-45ad-b8d8-9d394e3d79c5",
        "colab": {
          "base_uri": "https://localhost:8080/"
        }
      },
      "execution_count": 74,
      "outputs": [
        {
          "output_type": "stream",
          "name": "stdout",
          "text": [
            "DatetimeIndex(['2025-10-12', '2025-10-17', '2025-10-12', '2025-10-17'], dtype='datetime64[ns]', freq=None)\n"
          ]
        }
      ]
    }
  ]
}