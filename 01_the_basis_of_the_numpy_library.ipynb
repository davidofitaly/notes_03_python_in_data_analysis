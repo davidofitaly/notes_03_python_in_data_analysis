{
  "nbformat": 4,
  "nbformat_minor": 0,
  "metadata": {
    "colab": {
      "provenance": [],
      "authorship_tag": "ABX9TyONK2NmcJpywSzrSfsFmWtV",
      "include_colab_link": true
    },
    "kernelspec": {
      "name": "python3",
      "display_name": "Python 3"
    },
    "language_info": {
      "name": "python"
    }
  },
  "cells": [
    {
      "cell_type": "markdown",
      "metadata": {
        "id": "view-in-github",
        "colab_type": "text"
      },
      "source": [
        "<a href=\"https://colab.research.google.com/github/davidofitaly/notes_03_python_in_data_analysis/blob/main/01_the_basis_of_the_numpy_library.ipynb\" target=\"_parent\"><img src=\"https://colab.research.google.com/assets/colab-badge.svg\" alt=\"Open In Colab\"/></a>"
      ]
    },
    {
      "cell_type": "code",
      "source": [
        "import numpy as np"
      ],
      "metadata": {
        "id": "eHTHR8Sy2yFX"
      },
      "execution_count": 15,
      "outputs": []
    },
    {
      "cell_type": "markdown",
      "source": [
        "## 1.1 NumPy – Multidimensional Array"
      ],
      "metadata": {
        "id": "9rV-Pg8V123V"
      }
    },
    {
      "cell_type": "markdown",
      "source": [
        "### Creating ndarray arrays"
      ],
      "metadata": {
        "id": "HtdG03azXIrQ"
      }
    },
    {
      "cell_type": "markdown",
      "source": [
        "#####An `ndarray` (N-dimensional array) is the core data structure in NumPy. It is a fixed-size, homogeneous array that allows for efficient numerical operations. It is created using the `array` function.\n"
      ],
      "metadata": {
        "id": "sBJIY4LR1hwl"
      }
    },
    {
      "cell_type": "markdown",
      "source": [
        "####Examples 1.1"
      ],
      "metadata": {
        "id": "vK_6tWTp2HP6"
      }
    },
    {
      "cell_type": "code",
      "execution_count": null,
      "metadata": {
        "colab": {
          "base_uri": "https://localhost:8080/"
        },
        "id": "WaVKWDVw1VFc",
        "outputId": "cd48b628-0677-40fa-f656-76040c0976a6"
      },
      "outputs": [
        {
          "output_type": "execute_result",
          "data": {
            "text/plain": [
              "array([10. ,  2.5,  0. ,  9. ,  5. ])"
            ]
          },
          "metadata": {},
          "execution_count": 3
        }
      ],
      "source": [
        "data_1 = [10, 2.5, 0, 9, 5] # Define a Python list with numeric values\n",
        "array_1 = np.array(data_1)  # Convert the list into a NumPy ndarray\n",
        "\n",
        "array_1 # Display the NumPy array"
      ]
    },
    {
      "cell_type": "code",
      "source": [
        "data_2 = [[4,3,2,1], [9, 8, 7, 6]] # Define a Python list with numeric values\n",
        "array_2 = np.array(data_2)  # Convert the list into a NumPy ndarray\n",
        "\n",
        "array_2"
      ],
      "metadata": {
        "colab": {
          "base_uri": "https://localhost:8080/"
        },
        "id": "jGTO7MhF3GfH",
        "outputId": "5eeede74-82f3-41d5-8b69-035759a9686a"
      },
      "execution_count": null,
      "outputs": [
        {
          "output_type": "execute_result",
          "data": {
            "text/plain": [
              "array([[4, 3, 2, 1],\n",
              "       [9, 8, 7, 6]])"
            ]
          },
          "metadata": {},
          "execution_count": 6
        }
      ]
    },
    {
      "cell_type": "markdown",
      "source": [
        "### `ndim` and `shape` in NumPy"
      ],
      "metadata": {
        "id": "cczsWpxr4Qri"
      }
    },
    {
      "cell_type": "markdown",
      "source": [
        "#####In NumPy, `ndim` and `shape` are attributes of an `ndarray` that describe its structure.\n",
        "\n",
        "- **`ndim`**: Returns the number of dimensions (axes) of the array.\n",
        "- **`shape`**: Returns a tuple representing the size of the array along each dimension."
      ],
      "metadata": {
        "id": "ccRtCoen4MKc"
      }
    },
    {
      "cell_type": "markdown",
      "source": [
        "####Examples 1.2"
      ],
      "metadata": {
        "id": "HYAm7B9X4iic"
      }
    },
    {
      "cell_type": "code",
      "source": [
        "array_1.ndim # Returns the number of dimensions of array_1"
      ],
      "metadata": {
        "colab": {
          "base_uri": "https://localhost:8080/"
        },
        "id": "yemV49eA4alX",
        "outputId": "8c2b153b-a7c3-4ea7-c2b0-a0eabb242c5a"
      },
      "execution_count": null,
      "outputs": [
        {
          "output_type": "execute_result",
          "data": {
            "text/plain": [
              "1"
            ]
          },
          "metadata": {},
          "execution_count": 8
        }
      ]
    },
    {
      "cell_type": "code",
      "source": [
        "array_2.shape # Returns the shape (size along each axis) of array_2"
      ],
      "metadata": {
        "colab": {
          "base_uri": "https://localhost:8080/"
        },
        "id": "rOxONHyl4lRC",
        "outputId": "3533ef6e-6811-496c-b553-611738e9daa2"
      },
      "execution_count": null,
      "outputs": [
        {
          "output_type": "execute_result",
          "data": {
            "text/plain": [
              "(2, 4)"
            ]
          },
          "metadata": {},
          "execution_count": 9
        }
      ]
    },
    {
      "cell_type": "markdown",
      "source": [
        "### `dtype` in NumPy"
      ],
      "metadata": {
        "id": "bpkQTTor4_Vy"
      }
    },
    {
      "cell_type": "markdown",
      "source": [
        "\n",
        "- `dtype` stands for \"data type\" and is an attribute in NumPy that specifies the type of elements in an `ndarray`.\n",
        "- It defines the type of data that the array holds, such as integers, floats, or strings.\n",
        "- The `dtype` helps in determining the memory consumption and performance of operations."
      ],
      "metadata": {
        "id": "PsdmVT-A497Q"
      }
    },
    {
      "cell_type": "markdown",
      "source": [
        "####Examples 1.3"
      ],
      "metadata": {
        "id": "ccE4-3U55kmR"
      }
    },
    {
      "cell_type": "code",
      "source": [
        "array_1.dtype # array_1.dtype will display the data type of the elements in array_1"
      ],
      "metadata": {
        "colab": {
          "base_uri": "https://localhost:8080/"
        },
        "id": "WOMvDUV05jfw",
        "outputId": "61f61555-9b13-4127-800d-2c8b71c81bf0"
      },
      "execution_count": null,
      "outputs": [
        {
          "output_type": "execute_result",
          "data": {
            "text/plain": [
              "dtype('float64')"
            ]
          },
          "metadata": {},
          "execution_count": 10
        }
      ]
    },
    {
      "cell_type": "code",
      "source": [
        "array_2.dtype # array_2.dtype will show the data type of the elements in array_2"
      ],
      "metadata": {
        "colab": {
          "base_uri": "https://localhost:8080/"
        },
        "id": "gZ7ukYIG5w7l",
        "outputId": "ad088242-c509-475e-e032-1481a2f77874"
      },
      "execution_count": null,
      "outputs": [
        {
          "output_type": "execute_result",
          "data": {
            "text/plain": [
              "dtype('int64')"
            ]
          },
          "metadata": {},
          "execution_count": 11
        }
      ]
    },
    {
      "cell_type": "markdown",
      "source": [
        "### Numpy Array Creation Functions"
      ],
      "metadata": {
        "id": "uKTpbnsv7JUA"
      }
    },
    {
      "cell_type": "markdown",
      "source": [
        "\n",
        "\n",
        "| Function      | Description                                                             | Example                                                                 |\n",
        "|---------------|-------------------------------------------------------------------------|-------------------------------------------------------------------------|\n",
        "| `array`       | Creates an array from a Python list or tuple.                           | `np.array([1, 2, 3])`                                                   |\n",
        "| `asarray`     | Converts input to an ndarray, but does not copy if input is already ndarray. | `np.asarray([1, 2, 3])`                                                 |\n",
        "| `arange`      | Returns an array with evenly spaced values within a specified range.     | `np.arange(0, 10, 2)`                                                  |\n",
        "| `ones`        | Creates an array of ones with a specified shape and data type.          | `np.ones((2, 3))`                                                      |\n",
        "| `ones_like`   | Returns an array of ones with the same shape and type as a given array. | `np.ones_like(array_1)`                                                |\n",
        "| `zeros`       | Creates an array of zeros with a specified shape and data type.         | `np.zeros((2, 3))`                                                     |\n",
        "| `zeros_like`  | Returns an array of zeros with the same shape and type as a given array. | `np.zeros_like(array_1)`                                               |\n",
        "| `empty`       | Creates an uninitialized array with a specified shape.                  | `np.empty((2, 3))`                                                     |\n",
        "| `empty_like`  | Returns an uninitialized array with the same shape and type as a given array. | `np.empty_like(array_1)`                                               |\n",
        "| `full`        | Creates an array filled with a specified value.                          | `np.full((2, 3), 7)`                                                   |\n",
        "| `full_like`   | Returns an array filled with a specified value, matching the shape and type of a given array. | `np.full_like(array_1, 7)`                                             |\n",
        "| `eye`         | Creates a 2-D identity matrix with ones on the diagonal.                | `np.eye(3)`                                                            |\n",
        "| `identity`    | Alias for `eye`. Creates a 2-D identity matrix.                         | `np.identity(3)`                                                       |\n"
      ],
      "metadata": {
        "id": "2fU4I9vL7B0G"
      }
    },
    {
      "cell_type": "markdown",
      "source": [
        "####Examples 1.4"
      ],
      "metadata": {
        "id": "-vJVHVq38kR6"
      }
    },
    {
      "cell_type": "code",
      "source": [
        "data_3 = [1,2,3,4,5]  # Define a Python list with numeric values\n",
        "array_3 = np.array(data_3) # Convert the list into a NumPy ndarray\n",
        "\n",
        "array_3 # Display the NumPy array"
      ],
      "metadata": {
        "colab": {
          "base_uri": "https://localhost:8080/"
        },
        "id": "IqRrNM_g8mqA",
        "outputId": "d9b1b4ea-b42c-4bea-c2fc-7e10a11ba4c8"
      },
      "execution_count": null,
      "outputs": [
        {
          "output_type": "execute_result",
          "data": {
            "text/plain": [
              "array([1, 2, 3, 4, 5])"
            ]
          },
          "metadata": {},
          "execution_count": 12
        }
      ]
    },
    {
      "cell_type": "code",
      "source": [
        "asaaray_1 = np.asarray(array_3) # If the input is already a NumPy array, it will return the same object without making a copy.\n",
        "\n",
        "asaaray_1 # Display the resulting NumPy array"
      ],
      "metadata": {
        "colab": {
          "base_uri": "https://localhost:8080/"
        },
        "id": "tqGb5f1f80yz",
        "outputId": "a01763b9-5ca7-47d3-e597-3257eccd4c05"
      },
      "execution_count": null,
      "outputs": [
        {
          "output_type": "execute_result",
          "data": {
            "text/plain": [
              "array([1, 2, 3, 4, 5])"
            ]
          },
          "metadata": {},
          "execution_count": 13
        }
      ]
    },
    {
      "cell_type": "code",
      "source": [
        "np.arange(7) # It starts from 0 by default and increments by 1."
      ],
      "metadata": {
        "colab": {
          "base_uri": "https://localhost:8080/"
        },
        "id": "9S88KLWD9BYC",
        "outputId": "6c9be25b-945b-4236-a98b-c72db7133622"
      },
      "execution_count": null,
      "outputs": [
        {
          "output_type": "execute_result",
          "data": {
            "text/plain": [
              "array([0, 1, 2, 3, 4, 5, 6])"
            ]
          },
          "metadata": {},
          "execution_count": 15
        }
      ]
    },
    {
      "cell_type": "code",
      "source": [
        "ones_array = np.ones((4,5))  # Creates a 4x5 array filled with ones.\n",
        "\n",
        "ones_array # Displays the array"
      ],
      "metadata": {
        "colab": {
          "base_uri": "https://localhost:8080/"
        },
        "id": "j6mx7QcH9MB-",
        "outputId": "7c1054ec-6f9e-4a5e-df18-e0e7fde5f5c4"
      },
      "execution_count": null,
      "outputs": [
        {
          "output_type": "execute_result",
          "data": {
            "text/plain": [
              "array([[1., 1., 1., 1., 1.],\n",
              "       [1., 1., 1., 1., 1.],\n",
              "       [1., 1., 1., 1., 1.],\n",
              "       [1., 1., 1., 1., 1.]])"
            ]
          },
          "metadata": {},
          "execution_count": 27
        }
      ]
    },
    {
      "cell_type": "code",
      "source": [
        "ones_like = np.ones_like(ones_array) # Creates an array with the same shape and type as ones_1, filled with ones.\n",
        "\n",
        "ones_like # Displays the new array"
      ],
      "metadata": {
        "colab": {
          "base_uri": "https://localhost:8080/"
        },
        "id": "9RTx3YIr9RFq",
        "outputId": "bbc2495c-0c48-49b8-b16d-e195f963a919"
      },
      "execution_count": null,
      "outputs": [
        {
          "output_type": "execute_result",
          "data": {
            "text/plain": [
              "array([[1., 1., 1., 1., 1.],\n",
              "       [1., 1., 1., 1., 1.],\n",
              "       [1., 1., 1., 1., 1.],\n",
              "       [1., 1., 1., 1., 1.]])"
            ]
          },
          "metadata": {},
          "execution_count": 28
        }
      ]
    },
    {
      "cell_type": "code",
      "source": [
        "zeros_array = np.zeros((2 ,3, 4)) # Creates a 3D array with shape (2, 3, 4), filled with zeros.\n",
        "\n",
        "zeros_array # Displays the created array"
      ],
      "metadata": {
        "colab": {
          "base_uri": "https://localhost:8080/"
        },
        "id": "5Fn7EceO9u2W",
        "outputId": "df2e1e9e-85df-4e8f-ee53-36b04b9cac2c"
      },
      "execution_count": null,
      "outputs": [
        {
          "output_type": "execute_result",
          "data": {
            "text/plain": [
              "array([[[0., 0., 0., 0.],\n",
              "        [0., 0., 0., 0.],\n",
              "        [0., 0., 0., 0.]],\n",
              "\n",
              "       [[0., 0., 0., 0.],\n",
              "        [0., 0., 0., 0.],\n",
              "        [0., 0., 0., 0.]]])"
            ]
          },
          "metadata": {},
          "execution_count": 29
        }
      ]
    },
    {
      "cell_type": "code",
      "source": [
        "zeors_like_array = np.zeros_like(zeros_array) # Creates an array with the same shape and type as zeros_array, filled with zeros.\n",
        "\n",
        "zeors_like_array # Displays the created array"
      ],
      "metadata": {
        "colab": {
          "base_uri": "https://localhost:8080/"
        },
        "id": "OMpLXjeA-ye9",
        "outputId": "0c66d49e-f2bb-4403-c942-f07aa86bbbb9"
      },
      "execution_count": null,
      "outputs": [
        {
          "output_type": "execute_result",
          "data": {
            "text/plain": [
              "array([[[0., 0., 0., 0.],\n",
              "        [0., 0., 0., 0.],\n",
              "        [0., 0., 0., 0.]],\n",
              "\n",
              "       [[0., 0., 0., 0.],\n",
              "        [0., 0., 0., 0.],\n",
              "        [0., 0., 0., 0.]]])"
            ]
          },
          "metadata": {},
          "execution_count": 36
        }
      ]
    },
    {
      "cell_type": "code",
      "source": [
        "empty_array = np.empty((2, 3, 2)) # Creates an uninitialized array with the specified shape.\n",
        "\n",
        "empty_array # Displays the created array"
      ],
      "metadata": {
        "colab": {
          "base_uri": "https://localhost:8080/"
        },
        "id": "33Whw1I_-AJz",
        "outputId": "cfb6226b-ac19-4031-86c1-75119b5c163d"
      },
      "execution_count": null,
      "outputs": [
        {
          "output_type": "execute_result",
          "data": {
            "text/plain": [
              "array([[[0., 0.],\n",
              "        [0., 0.],\n",
              "        [0., 0.]],\n",
              "\n",
              "       [[0., 0.],\n",
              "        [0., 0.],\n",
              "        [0., 0.]]])"
            ]
          },
          "metadata": {},
          "execution_count": 31
        }
      ]
    },
    {
      "cell_type": "code",
      "source": [
        "full_array = np.full((3, 4), 5) # Creates a 3x4 array filled with the value 5.\n",
        "\n",
        "full_array # Displays the created array\n"
      ],
      "metadata": {
        "colab": {
          "base_uri": "https://localhost:8080/"
        },
        "id": "IamGAehC-j3M",
        "outputId": "f125378f-4e6e-420b-e179-2d63b50d0cf1"
      },
      "execution_count": null,
      "outputs": [
        {
          "output_type": "execute_result",
          "data": {
            "text/plain": [
              "array([[5, 5, 5, 5],\n",
              "       [5, 5, 5, 5],\n",
              "       [5, 5, 5, 5]])"
            ]
          },
          "metadata": {},
          "execution_count": 34
        }
      ]
    },
    {
      "cell_type": "code",
      "source": [
        "full_like_array = np.full_like(full_array, 7) # Creates an array with the same shape and type as full_array, filled with the value 7.\n",
        "\n",
        "full_like_array # Displays the created array"
      ],
      "metadata": {
        "colab": {
          "base_uri": "https://localhost:8080/"
        },
        "id": "2lMgQFsq-sqB",
        "outputId": "79ae9c08-3c06-4903-dbbd-6c7243819b99"
      },
      "execution_count": null,
      "outputs": [
        {
          "output_type": "execute_result",
          "data": {
            "text/plain": [
              "array([[7, 7, 7, 7],\n",
              "       [7, 7, 7, 7],\n",
              "       [7, 7, 7, 7]])"
            ]
          },
          "metadata": {},
          "execution_count": 35
        }
      ]
    },
    {
      "cell_type": "code",
      "source": [
        "eye_array = np.eye(5) # Creates a 5x5 identity matrix (ones on the diagonal, zeros elsewhere)\n",
        "\n",
        "eye_array # Displays the created identity matrix"
      ],
      "metadata": {
        "colab": {
          "base_uri": "https://localhost:8080/"
        },
        "id": "P4hVtc3a-4Lu",
        "outputId": "3c768c80-0474-4eca-f905-a543151e261f"
      },
      "execution_count": null,
      "outputs": [
        {
          "output_type": "execute_result",
          "data": {
            "text/plain": [
              "array([[1., 0., 0., 0., 0.],\n",
              "       [0., 1., 0., 0., 0.],\n",
              "       [0., 0., 1., 0., 0.],\n",
              "       [0., 0., 0., 1., 0.],\n",
              "       [0., 0., 0., 0., 1.]])"
            ]
          },
          "metadata": {},
          "execution_count": 39
        }
      ]
    },
    {
      "cell_type": "code",
      "source": [
        "identity_array = np.identity(5) # Creates a 5x5 identity matrix using the np.identity() function\n",
        "\n",
        "identity_array # Displays the created identity matrix"
      ],
      "metadata": {
        "colab": {
          "base_uri": "https://localhost:8080/"
        },
        "id": "abYGyWss-_73",
        "outputId": "68860f95-584b-4925-880a-e8bd4fc3d68b"
      },
      "execution_count": null,
      "outputs": [
        {
          "output_type": "execute_result",
          "data": {
            "text/plain": [
              "array([[1., 0., 0., 0., 0.],\n",
              "       [0., 1., 0., 0., 0.],\n",
              "       [0., 0., 1., 0., 0.],\n",
              "       [0., 0., 0., 1., 0.],\n",
              "       [0., 0., 0., 0., 1.]])"
            ]
          },
          "metadata": {},
          "execution_count": 42
        }
      ]
    },
    {
      "cell_type": "markdown",
      "source": [
        "### `astype` in NumPy"
      ],
      "metadata": {
        "id": "OqiBvZ3JDvHs"
      }
    },
    {
      "cell_type": "markdown",
      "source": [
        "- `astype()` is a method in NumPy that is used to **cast** or **convert** the data type of an existing array to a specified type.\n",
        "- It creates a **new array** with the desired data type, leaving the original\n"
      ],
      "metadata": {
        "id": "sbktcEYGD0yC"
      }
    },
    {
      "cell_type": "code",
      "source": [
        "float_array = np.array([1.5, 2.3, 3.7, 4.9]) # Creating a NumPy array of floats\n",
        "\n",
        "int_array = float_array.astype(int)  # Converts the float array to integers by truncating the decimal part\n",
        "\n",
        "int_array # Displays the resulting integer array\n"
      ],
      "metadata": {
        "colab": {
          "base_uri": "https://localhost:8080/"
        },
        "id": "-1-Hla05DzQs",
        "outputId": "f5f55033-c4f9-4f9e-c5ec-393ded8a45e2"
      },
      "execution_count": null,
      "outputs": [
        {
          "output_type": "execute_result",
          "data": {
            "text/plain": [
              "array([1, 2, 3, 4])"
            ]
          },
          "metadata": {},
          "execution_count": 55
        }
      ]
    },
    {
      "cell_type": "code",
      "source": [
        "convert_to_string_array = np.array([1, 2, 3, 4], dtype=str) # Creates a NumPy array with integer elements and converts them to strings\n",
        "\n",
        "convert_to_string_array # Displays the resulting array with string elements\n"
      ],
      "metadata": {
        "colab": {
          "base_uri": "https://localhost:8080/"
        },
        "id": "NeyA9Th1EgyE",
        "outputId": "11c7484c-e6ef-4c3f-e39f-27c8b7eb2053"
      },
      "execution_count": null,
      "outputs": [
        {
          "output_type": "execute_result",
          "data": {
            "text/plain": [
              "array(['1', '2', '3', '4'], dtype='<U1')"
            ]
          },
          "metadata": {},
          "execution_count": 56
        }
      ]
    },
    {
      "cell_type": "code",
      "source": [
        "convert_to_float_array = np.array([1, 2, 3, 4], dtype=float) # Creates a NumPy array with integer elements and converts them to floats\n",
        "\n",
        "convert_to_float_array # Displays the resulting array with float elements"
      ],
      "metadata": {
        "colab": {
          "base_uri": "https://localhost:8080/"
        },
        "id": "Jg4p4zzAEoiM",
        "outputId": "b23d8483-5e5b-46bb-81b3-c323593f3f35"
      },
      "execution_count": null,
      "outputs": [
        {
          "output_type": "execute_result",
          "data": {
            "text/plain": [
              "array([1., 2., 3., 4.])"
            ]
          },
          "metadata": {},
          "execution_count": 57
        }
      ]
    },
    {
      "cell_type": "markdown",
      "source": [
        "### Arithmetic Operations with NumPy Arrays"
      ],
      "metadata": {
        "id": "gX3QF9anLvGe"
      }
    },
    {
      "cell_type": "markdown",
      "source": [
        "#####NumPy provides efficient and vectorized arithmetic operations on arrays, allowing you to perform element-wise operations directly on arrays without the need for explicit loops. These operations are typically faster and more efficient compared to traditional Python loops.\n",
        "\n",
        "##### Basic Arithmetic Operations:\n",
        "1. **Addition (`+`)**: Adds corresponding elements of two arrays.\n",
        "2. **Subtraction (`-`)**: Subtracts corresponding elements of one array from another.\n",
        "3. **Multiplication (`*`)**: Multiplies corresponding elements of two arrays.\n",
        "4. **Division (`/`)**: Divides corresponding elements of one array by another.\n",
        "5. **Exponentiation (`^`)**: Raises each element of the array to the power of the corresponding element in another array.\n",
        "6. **Modulo (`%`)**: Computes the remainder of the division of corresponding elements."
      ],
      "metadata": {
        "id": "mcDp64JoLp1N"
      }
    },
    {
      "cell_type": "markdown",
      "source": [
        "####Examples 1.5"
      ],
      "metadata": {
        "id": "L16GxsAzPP9L"
      }
    },
    {
      "cell_type": "code",
      "source": [
        "# Create two arrays\n",
        "a = np.array([1, 2, 3])\n",
        "b = np.array([4, 5, 6])"
      ],
      "metadata": {
        "id": "ZuUrZrttLmHa"
      },
      "execution_count": null,
      "outputs": []
    },
    {
      "cell_type": "code",
      "source": [
        "# Addition\n",
        "add_result = a + b\n",
        "print(\"Addition:\", add_result)"
      ],
      "metadata": {
        "colab": {
          "base_uri": "https://localhost:8080/"
        },
        "id": "BDHA0Wj8Majv",
        "outputId": "81ee7888-32e1-44bd-fa59-4b724ccc6d04"
      },
      "execution_count": null,
      "outputs": [
        {
          "output_type": "stream",
          "name": "stdout",
          "text": [
            "Addition: [5 7 9]\n"
          ]
        }
      ]
    },
    {
      "cell_type": "code",
      "source": [
        "# Subtraction\n",
        "sub_result = a - b\n",
        "print(\"Subtraction:\", sub_result)"
      ],
      "metadata": {
        "colab": {
          "base_uri": "https://localhost:8080/"
        },
        "id": "zV9GHrO4MdVZ",
        "outputId": "c5c5b23f-6600-4a13-f636-0c2af50ef402"
      },
      "execution_count": null,
      "outputs": [
        {
          "output_type": "stream",
          "name": "stdout",
          "text": [
            "Subtraction: [-3 -3 -3]\n"
          ]
        }
      ]
    },
    {
      "cell_type": "code",
      "source": [
        "# Multiplication\n",
        "mul_result = a * b\n",
        "print(\"Multiplication:\", mul_result)"
      ],
      "metadata": {
        "colab": {
          "base_uri": "https://localhost:8080/"
        },
        "id": "vlw4ywLMMgmy",
        "outputId": "65e07bd5-188c-418f-caa7-6324b4dfa191"
      },
      "execution_count": null,
      "outputs": [
        {
          "output_type": "stream",
          "name": "stdout",
          "text": [
            "Multiplication: [ 4 10 18]\n"
          ]
        }
      ]
    },
    {
      "cell_type": "code",
      "source": [
        "# Division\n",
        "div_result = a / b\n",
        "print(\"Division:\", div_result)"
      ],
      "metadata": {
        "colab": {
          "base_uri": "https://localhost:8080/"
        },
        "id": "wO1KGuNFMiuD",
        "outputId": "3d087f11-2506-4a9f-8c7a-4d88e4fda502"
      },
      "execution_count": null,
      "outputs": [
        {
          "output_type": "stream",
          "name": "stdout",
          "text": [
            "Division: [0.25 0.4  0.5 ]\n"
          ]
        }
      ]
    },
    {
      "cell_type": "code",
      "source": [
        "# Exponentiation\n",
        "exp_result = a ** b\n",
        "print(\"Exponentiation:\", exp_result)"
      ],
      "metadata": {
        "colab": {
          "base_uri": "https://localhost:8080/"
        },
        "id": "VfdX6vaJMkpK",
        "outputId": "58ff2dc2-8d46-468f-cece-8745f7cbd86b"
      },
      "execution_count": null,
      "outputs": [
        {
          "output_type": "stream",
          "name": "stdout",
          "text": [
            "Exponentiation: [  1  32 729]\n"
          ]
        }
      ]
    },
    {
      "cell_type": "code",
      "source": [
        "# Modulo\n",
        "mod_result = a % b\n",
        "print(\"Modulo:\", mod_result)"
      ],
      "metadata": {
        "colab": {
          "base_uri": "https://localhost:8080/"
        },
        "id": "C-cuqbRbMmUw",
        "outputId": "b6f22d5d-0a5b-4398-f354-4cbeaa7be5ff"
      },
      "execution_count": null,
      "outputs": [
        {
          "output_type": "stream",
          "name": "stdout",
          "text": [
            "Modulo: [1 2 3]\n"
          ]
        }
      ]
    },
    {
      "cell_type": "markdown",
      "source": [
        "### Indexing in NumPy Arrays"
      ],
      "metadata": {
        "id": "tpClfhbnO71v"
      }
    },
    {
      "cell_type": "markdown",
      "source": [
        "\n",
        "#####Indexing in NumPy allows you to access and modify elements in an array using their positions. You can access elements using a single index, multiple indices, or slices. NumPy also supports advanced indexing techniques, including boolean indexing and fancy indexing.\n"
      ],
      "metadata": {
        "id": "EPz52JZkO3KH"
      }
    },
    {
      "cell_type": "markdown",
      "source": [
        "####Examples 1.6"
      ],
      "metadata": {
        "id": "YUuj1WeoPMXK"
      }
    },
    {
      "cell_type": "markdown",
      "source": [
        "\n",
        "\n",
        "*   Basics of indexing\n",
        "\n",
        "\n",
        "\n"
      ],
      "metadata": {
        "id": "ej26KxwySbwn"
      }
    },
    {
      "cell_type": "code",
      "source": [
        "array3d = np.array([[[8, 7, 1], [4, 7, 6]], [[7, 5, 9], [2, 11, 0]]])\n",
        "array3d"
      ],
      "metadata": {
        "colab": {
          "base_uri": "https://localhost:8080/"
        },
        "id": "NvcSpQ_-Mpiu",
        "outputId": "65ce74cd-ed14-40fa-d0c6-2acfa0021e23"
      },
      "execution_count": null,
      "outputs": [
        {
          "output_type": "execute_result",
          "data": {
            "text/plain": [
              "array([[[ 8,  7,  1],\n",
              "        [ 4,  7,  6]],\n",
              "\n",
              "       [[ 7,  5,  9],\n",
              "        [ 2, 11,  0]]])"
            ]
          },
          "metadata": {},
          "execution_count": 69
        }
      ]
    },
    {
      "cell_type": "code",
      "source": [
        "array3d[0] # Accessing the first 2D slice (row) of the 3D array 'array3d'."
      ],
      "metadata": {
        "colab": {
          "base_uri": "https://localhost:8080/"
        },
        "id": "tIJjspxMPiCG",
        "outputId": "63be68ff-85c4-4b58-aa96-803c77be5cb3"
      },
      "execution_count": null,
      "outputs": [
        {
          "output_type": "execute_result",
          "data": {
            "text/plain": [
              "array([[8, 7, 1],\n",
              "       [4, 7, 6]])"
            ]
          },
          "metadata": {},
          "execution_count": 72
        }
      ]
    },
    {
      "cell_type": "code",
      "source": [
        "array3d[1] # Accessing the second 2D slice (row) of the 3D array 'array3d'."
      ],
      "metadata": {
        "colab": {
          "base_uri": "https://localhost:8080/"
        },
        "id": "pjXM-qo5Pc48",
        "outputId": "75e9b2cb-e42d-416c-95ae-ca743acca062"
      },
      "execution_count": null,
      "outputs": [
        {
          "output_type": "execute_result",
          "data": {
            "text/plain": [
              "array([[ 7,  5,  9],\n",
              "       [ 2, 11,  0]])"
            ]
          },
          "metadata": {},
          "execution_count": 71
        }
      ]
    },
    {
      "cell_type": "markdown",
      "source": [
        "\n",
        "\n",
        "*   Indexing by means of clippings\n",
        "\n"
      ],
      "metadata": {
        "id": "xAMf680ISkrX"
      }
    },
    {
      "cell_type": "code",
      "source": [
        "array2d = np.array([[1,2,3], [5,9,1], [2,7,0]])\n",
        "array2d"
      ],
      "metadata": {
        "colab": {
          "base_uri": "https://localhost:8080/"
        },
        "id": "q9o5ODI_P9pS",
        "outputId": "43cffd71-ff17-4e41-ae66-ac8fcda073cb"
      },
      "execution_count": null,
      "outputs": [
        {
          "output_type": "execute_result",
          "data": {
            "text/plain": [
              "array([[1, 2, 3],\n",
              "       [5, 9, 1],\n",
              "       [2, 7, 0]])"
            ]
          },
          "metadata": {},
          "execution_count": 74
        }
      ]
    },
    {
      "cell_type": "code",
      "source": [
        "array2d[:2, 1:]"
      ],
      "metadata": {
        "colab": {
          "base_uri": "https://localhost:8080/"
        },
        "id": "ZBKWXpgEQNgY",
        "outputId": "b1b1585a-8ce5-45df-dffa-8b27aef510cd"
      },
      "execution_count": null,
      "outputs": [
        {
          "output_type": "execute_result",
          "data": {
            "text/plain": [
              "array([[2, 3],\n",
              "       [9, 1]])"
            ]
          },
          "metadata": {},
          "execution_count": 75
        }
      ]
    },
    {
      "cell_type": "code",
      "source": [
        "array2d[2, :]"
      ],
      "metadata": {
        "colab": {
          "base_uri": "https://localhost:8080/"
        },
        "id": "BRSlDs1cQVEo",
        "outputId": "4fbf32e1-e62a-413a-99be-3601e53e9b36"
      },
      "execution_count": null,
      "outputs": [
        {
          "output_type": "execute_result",
          "data": {
            "text/plain": [
              "array([2, 7, 0])"
            ]
          },
          "metadata": {},
          "execution_count": 76
        }
      ]
    },
    {
      "cell_type": "code",
      "source": [
        "array2d[:, :2]"
      ],
      "metadata": {
        "colab": {
          "base_uri": "https://localhost:8080/"
        },
        "id": "ZsT9ItErQZ6p",
        "outputId": "98804595-f485-4333-b0e1-0d1c9bcbb739"
      },
      "execution_count": null,
      "outputs": [
        {
          "output_type": "execute_result",
          "data": {
            "text/plain": [
              "array([[1, 2],\n",
              "       [5, 9],\n",
              "       [2, 7]])"
            ]
          },
          "metadata": {},
          "execution_count": 77
        }
      ]
    },
    {
      "cell_type": "code",
      "source": [
        "array2d[2, 2]"
      ],
      "metadata": {
        "colab": {
          "base_uri": "https://localhost:8080/"
        },
        "id": "VyCoqwjjQdEW",
        "outputId": "5d3614a4-17bf-4fd5-8165-cf4648fdc0f7"
      },
      "execution_count": null,
      "outputs": [
        {
          "output_type": "execute_result",
          "data": {
            "text/plain": [
              "0"
            ]
          },
          "metadata": {},
          "execution_count": 78
        }
      ]
    },
    {
      "cell_type": "code",
      "source": [
        "array2d[1, :2]"
      ],
      "metadata": {
        "colab": {
          "base_uri": "https://localhost:8080/"
        },
        "id": "Vvsepg1iQhwz",
        "outputId": "46db33fb-85cb-490a-8e08-dc27669629b7"
      },
      "execution_count": null,
      "outputs": [
        {
          "output_type": "execute_result",
          "data": {
            "text/plain": [
              "array([5, 9])"
            ]
          },
          "metadata": {},
          "execution_count": 79
        }
      ]
    },
    {
      "cell_type": "markdown",
      "source": [
        "\n",
        "\n",
        "*   Indexing and logical values\n"
      ],
      "metadata": {
        "id": "SDFsEVxpSn3-"
      }
    },
    {
      "cell_type": "code",
      "source": [
        "names_array = np.array([\"John\", \"Alice\", \"Bob\", \"Emma\", \"James\", \"Sophia\", \"John\"])\n",
        "data_array = np.array([[4,7], [8,2], [0,5], [4,8], [2,3], [9,6], [1, 6]])\n",
        "\n",
        "print(names_array)\n",
        "print(data_array)"
      ],
      "metadata": {
        "colab": {
          "base_uri": "https://localhost:8080/"
        },
        "id": "W0mOXR5pQoa-",
        "outputId": "0543c5ad-7df1-4545-d049-f3988f10ec09"
      },
      "execution_count": null,
      "outputs": [
        {
          "output_type": "stream",
          "name": "stdout",
          "text": [
            "['John' 'Alice' 'Bob' 'Emma' 'James' 'Sophia' 'John']\n",
            "[[4 7]\n",
            " [8 2]\n",
            " [0 5]\n",
            " [4 8]\n",
            " [2 3]\n",
            " [9 6]\n",
            " [1 6]]\n"
          ]
        }
      ]
    },
    {
      "cell_type": "code",
      "source": [
        "names_array == \"John\""
      ],
      "metadata": {
        "colab": {
          "base_uri": "https://localhost:8080/"
        },
        "id": "EKLZbsfYSpY5",
        "outputId": "90f2d6c6-8442-4639-969a-358a4c1e80aa"
      },
      "execution_count": null,
      "outputs": [
        {
          "output_type": "execute_result",
          "data": {
            "text/plain": [
              "array([ True, False, False, False, False, False,  True])"
            ]
          },
          "metadata": {},
          "execution_count": 88
        }
      ]
    },
    {
      "cell_type": "code",
      "source": [
        "data_array[names_array ==\"Emma\"]"
      ],
      "metadata": {
        "colab": {
          "base_uri": "https://localhost:8080/"
        },
        "id": "FYHa4xsrSxn2",
        "outputId": "20e73e8a-2db5-4359-a505-8cadbd68f7b1"
      },
      "execution_count": null,
      "outputs": [
        {
          "output_type": "execute_result",
          "data": {
            "text/plain": [
              "array([[4, 8]])"
            ]
          },
          "metadata": {},
          "execution_count": 89
        }
      ]
    },
    {
      "cell_type": "code",
      "source": [
        "data_array[names_array == \"John\"]"
      ],
      "metadata": {
        "colab": {
          "base_uri": "https://localhost:8080/"
        },
        "id": "xrsCU1pIS7aM",
        "outputId": "704d6e48-ab80-48bb-a607-7c586a55a2a3"
      },
      "execution_count": null,
      "outputs": [
        {
          "output_type": "execute_result",
          "data": {
            "text/plain": [
              "array([[4, 7],\n",
              "       [1, 6]])"
            ]
          },
          "metadata": {},
          "execution_count": 94
        }
      ]
    },
    {
      "cell_type": "code",
      "source": [
        "names_array != \"Sophia\""
      ],
      "metadata": {
        "colab": {
          "base_uri": "https://localhost:8080/"
        },
        "id": "7eGz3zi4TQG_",
        "outputId": "77f2190d-f3aa-4458-9ff6-0aaabea619be"
      },
      "execution_count": null,
      "outputs": [
        {
          "output_type": "execute_result",
          "data": {
            "text/plain": [
              "array([ True,  True,  True,  True,  True, False,  True])"
            ]
          },
          "metadata": {},
          "execution_count": 95
        }
      ]
    },
    {
      "cell_type": "code",
      "source": [
        "data_array[~(names_array == \"James\")]"
      ],
      "metadata": {
        "colab": {
          "base_uri": "https://localhost:8080/"
        },
        "id": "dSdVPrXMTUBI",
        "outputId": "01a6c9eb-9878-4808-d028-a6d18c492c12"
      },
      "execution_count": null,
      "outputs": [
        {
          "output_type": "execute_result",
          "data": {
            "text/plain": [
              "array([[4, 7],\n",
              "       [8, 2],\n",
              "       [0, 5],\n",
              "       [4, 8],\n",
              "       [9, 6],\n",
              "       [1, 6]])"
            ]
          },
          "metadata": {},
          "execution_count": 96
        }
      ]
    },
    {
      "cell_type": "code",
      "source": [
        "mask = (names_array == \"Alice\") | (names_array == \"Bob\")\n",
        "data_array[mask]"
      ],
      "metadata": {
        "colab": {
          "base_uri": "https://localhost:8080/"
        },
        "id": "X0QVJt9fThrV",
        "outputId": "408162e6-e8e7-44bd-bb59-a864bd4fc36b"
      },
      "execution_count": null,
      "outputs": [
        {
          "output_type": "execute_result",
          "data": {
            "text/plain": [
              "array([[8, 2],\n",
              "       [0, 5]])"
            ]
          },
          "metadata": {},
          "execution_count": 98
        }
      ]
    },
    {
      "cell_type": "code",
      "source": [
        "data_array[data_array < 5] = 0\n",
        "data_array"
      ],
      "metadata": {
        "colab": {
          "base_uri": "https://localhost:8080/"
        },
        "id": "5LUSMJzeTuZo",
        "outputId": "6e7e7178-7999-4262-8ef3-46472672991b"
      },
      "execution_count": null,
      "outputs": [
        {
          "output_type": "execute_result",
          "data": {
            "text/plain": [
              "array([[0, 7],\n",
              "       [8, 0],\n",
              "       [0, 5],\n",
              "       [0, 8],\n",
              "       [0, 0],\n",
              "       [9, 6],\n",
              "       [0, 6]])"
            ]
          },
          "metadata": {},
          "execution_count": 101
        }
      ]
    },
    {
      "cell_type": "code",
      "source": [
        "data_array[names_array !=\"Emma\"] = 9\n",
        "data_array"
      ],
      "metadata": {
        "colab": {
          "base_uri": "https://localhost:8080/"
        },
        "id": "5z5PCjpmT6C2",
        "outputId": "d77b3f83-068c-4139-dbbb-44926fbb7942"
      },
      "execution_count": null,
      "outputs": [
        {
          "output_type": "execute_result",
          "data": {
            "text/plain": [
              "array([[9, 9],\n",
              "       [9, 9],\n",
              "       [9, 9],\n",
              "       [0, 8],\n",
              "       [9, 9],\n",
              "       [9, 9],\n",
              "       [9, 9]])"
            ]
          },
          "metadata": {},
          "execution_count": 102
        }
      ]
    },
    {
      "cell_type": "markdown",
      "source": [
        "\n",
        "\n",
        "*   Fancy indexing\n",
        "\n"
      ],
      "metadata": {
        "id": "z67u91PUWAr4"
      }
    },
    {
      "cell_type": "code",
      "source": [
        "arr = np.array([[1, 2], [3, 4], [5, 6]]) # Creating a 2D NumPy array with shape (3, 2)\n",
        "\n",
        "fancy_arr = arr[[1, 0], [0, 1]] # Fancy indexing: Selecting elements at positions (1, 0) and (0, 1)\n",
        "fancy_arr  # Displays the resulting"
      ],
      "metadata": {
        "colab": {
          "base_uri": "https://localhost:8080/"
        },
        "id": "LKCu5sbwWC64",
        "outputId": "9bf602cd-2701-4f15-e1e2-760c00c97166"
      },
      "execution_count": null,
      "outputs": [
        {
          "output_type": "execute_result",
          "data": {
            "text/plain": [
              "array([3, 2])"
            ]
          },
          "metadata": {},
          "execution_count": 105
        }
      ]
    },
    {
      "cell_type": "code",
      "source": [
        "arr = np.array([[1, 2, 3], [3, 4, 9], [5, 6, 0]]) # Creating a 2D NumPy array with shape (3, 3)\n",
        "\n",
        "fancy_arr = arr[[2, 1 ], [0, 2]] # Fancy indexing: Selecting elements at positions (1, 0) and (0, 1)\n",
        "fancy_arr  # Displays the resulting"
      ],
      "metadata": {
        "colab": {
          "base_uri": "https://localhost:8080/"
        },
        "id": "uDse_SbeWlGc",
        "outputId": "24a11d4a-e5bf-4a8a-8046-9de3a21c849b"
      },
      "execution_count": null,
      "outputs": [
        {
          "output_type": "execute_result",
          "data": {
            "text/plain": [
              "array([5, 9])"
            ]
          },
          "metadata": {},
          "execution_count": 106
        }
      ]
    },
    {
      "cell_type": "markdown",
      "source": [
        "### Transposing Arrays in NumPy"
      ],
      "metadata": {
        "id": "UwJ4iWDNX57N"
      }
    },
    {
      "cell_type": "markdown",
      "source": [
        "\n",
        "- **Transpose**: Transposing an array means flipping it over its diagonal, converting rows to columns and vice versa.\n",
        "- **Function**: You can transpose a NumPy array using `.T` or `np.transpose()`."
      ],
      "metadata": {
        "id": "dnsS26p8X4Xi"
      }
    },
    {
      "cell_type": "markdown",
      "source": [
        "####Examples 1.7"
      ],
      "metadata": {
        "id": "LJvKMoGMs7mV"
      }
    },
    {
      "cell_type": "code",
      "source": [
        "arr = np.array([[1, 2], [3, 4]]) # Creating a 2D array\n",
        "\n",
        "transposed_arr = np.transpose(arr) # Transposing the array\n",
        "\n",
        "transposed_arr # Printing the transposed array"
      ],
      "metadata": {
        "colab": {
          "base_uri": "https://localhost:8080/"
        },
        "id": "eScbJS39YM0w",
        "outputId": "0088fab1-4a62-4f80-ee2e-8738a9325e61"
      },
      "execution_count": null,
      "outputs": [
        {
          "output_type": "execute_result",
          "data": {
            "text/plain": [
              "array([[1, 3],\n",
              "       [2, 4]])"
            ]
          },
          "metadata": {},
          "execution_count": 108
        }
      ]
    },
    {
      "cell_type": "code",
      "source": [
        "arr = np.arange(15).reshape(3,5) # Create an array of integers from 0 to 14, and reshape it to a 3x5 matrix\n",
        "\n",
        "arr.T # Transpose the array, swapping its rows and columns"
      ],
      "metadata": {
        "colab": {
          "base_uri": "https://localhost:8080/"
        },
        "id": "hsQ1KM3hYWFb",
        "outputId": "f01cdcc4-7a30-42e8-976e-5984b18d4b7e"
      },
      "execution_count": null,
      "outputs": [
        {
          "output_type": "execute_result",
          "data": {
            "text/plain": [
              "array([[ 0,  5, 10],\n",
              "       [ 1,  6, 11],\n",
              "       [ 2,  7, 12],\n",
              "       [ 3,  8, 13],\n",
              "       [ 4,  9, 14]])"
            ]
          },
          "metadata": {},
          "execution_count": 111
        }
      ]
    },
    {
      "cell_type": "markdown",
      "source": [
        "## 1.2 Generation of pseudo-random numbers"
      ],
      "metadata": {
        "id": "w8IgKk3RZoRT"
      }
    },
    {
      "cell_type": "markdown",
      "source": [
        "### Generating Pseudorandom Numbers in NumPy"
      ],
      "metadata": {
        "id": "CcHi96d2aH1M"
      }
    },
    {
      "cell_type": "markdown",
      "source": [
        "- **Pseudorandom numbers** are numbers generated by an algorithm that mimics randomness. While the numbers appear random, they are actually deterministic, based on a starting value called the **seed**.\n",
        "  \n",
        "- **NumPy's `random` module** provides a wide range of functions to generate pseudorandom numbers, such as:\n",
        "  \n",
        "  - `np.random.rand()`: Generates numbers from a uniform distribution between 0 and 1.\n",
        "  - `np.random.randint()`: Generates random integers within a specified range.\n",
        "  - `np.random.randn()`: Generates random numbers from a standard normal distribution (mean = 0, standard deviation = 1).\n",
        "  - `np.random.choice()`: Randomly selects elements from an array.\n",
        "\n",
        "- **Setting the seed**:\n",
        "  - The `np.random.seed()` function is used to set the seed, allowing you to generate the same sequence of random numbers every time the code is run (useful for reproducibility)."
      ],
      "metadata": {
        "id": "Y9mzFpTLaFoA"
      }
    },
    {
      "cell_type": "markdown",
      "source": [
        "Examples 1.8"
      ],
      "metadata": {
        "id": "umG2CgCitFDH"
      }
    },
    {
      "cell_type": "code",
      "source": [
        "np.random.seed(42) # Set the seed for reproducibility, so the random numbers will be the same each time\n",
        "\n",
        "random_float = np.random.rand(15).reshape(3,5) # Generate 15 random numbers from a uniform distribution between 0 and 1\n",
        "\n",
        "print(random_float) # Print the resulting 3x5 matrix of random numbers\n"
      ],
      "metadata": {
        "id": "p0Bmx5KHaFHF",
        "outputId": "0e0ca378-ccb4-442d-e59c-7eec337fa7d5",
        "colab": {
          "base_uri": "https://localhost:8080/"
        }
      },
      "execution_count": null,
      "outputs": [
        {
          "output_type": "stream",
          "name": "stdout",
          "text": [
            "[[0.37454012 0.95071431 0.73199394 0.59865848 0.15601864]\n",
            " [0.15599452 0.05808361 0.86617615 0.60111501 0.70807258]\n",
            " [0.02058449 0.96990985 0.83244264 0.21233911 0.18182497]]\n"
          ]
        }
      ]
    },
    {
      "cell_type": "code",
      "source": [
        "random_int = np.random.randint(5, size=(1, 11)) # Generate 11 random integers between 0 and 4 (inclusive) and reshape them into a 1x11 array\n",
        "\n",
        "print(random_int) # Print the resulting array of random integers"
      ],
      "metadata": {
        "id": "b75zsnFfazPg",
        "outputId": "030371ed-47cb-4505-c82e-da550975ad14",
        "colab": {
          "base_uri": "https://localhost:8080/"
        }
      },
      "execution_count": null,
      "outputs": [
        {
          "output_type": "stream",
          "name": "stdout",
          "text": [
            "[[0 3 1 4 3 0 0 2 2 1 3]]\n"
          ]
        }
      ]
    },
    {
      "cell_type": "code",
      "source": [
        "random_rand = np.random.rand(10) # Generate an array of 10 random float numbers between 0 and 1 using a uniform distribution\n",
        "\n",
        "print(random_rand) # Print the resulting array of random floats"
      ],
      "metadata": {
        "id": "bmujsetWbXaS",
        "outputId": "de639f63-e876-45cc-b749-ca7b6415dcf3",
        "colab": {
          "base_uri": "https://localhost:8080/"
        }
      },
      "execution_count": null,
      "outputs": [
        {
          "output_type": "stream",
          "name": "stdout",
          "text": [
            "[0.17336465 0.39106061 0.18223609 0.75536141 0.42515587 0.20794166\n",
            " 0.56770033 0.03131329 0.84228477 0.44975413]\n"
          ]
        }
      ]
    },
    {
      "cell_type": "markdown",
      "source": [
        "## 1.3 Universal functions"
      ],
      "metadata": {
        "id": "8lEqQ5kgmIkK"
      }
    },
    {
      "cell_type": "markdown",
      "source": [
        "### Universal Functions (ufuncs) in NumPy"
      ],
      "metadata": {
        "id": "z2aAsoDrmSER"
      }
    },
    {
      "cell_type": "markdown",
      "source": [
        "#####Universal Functions (ufuncs) are functions that operate element-wise on arrays. They are highly efficient and can be classified into two categories based on the number of arguments they accept: **one-argument functions** and **two-argument functions**.\n",
        "\n",
        "##### 1. One-Argument Functions\n",
        "#####These functions perform operations on each element of the input array independently.\n",
        "\n",
        "| Function               | Description                                                       | Example                    |\n",
        "|------------------------|-------------------------------------------------------------------|----------------------------|\n",
        "| `np.sqrt`              | Computes the square root of each element.                         | `np.sqrt([4, 9, 16])`      |\n",
        "| `np.exp`               | Calculates the exponential of each element.                       | `np.exp([1, 2, 3])`        |\n",
        "| `np.log`               | Calculates the natural logarithm of each element.                 | `np.log([1, 10, 100])`     |\n",
        "| `np.abs`               | Returns the absolute value of each element.                       | `np.abs([-1, -2, -3])`     |\n",
        "| `np.sin`               | Computes the sine of each element.                                | `np.sin([0, np.pi/2])`     |\n",
        "\n",
        "#### 2. Two-Argument Functions\n",
        "#####These functions perform operations on pairs of elements, one from each of the two input arrays.\n",
        "\n",
        "| Function               | Description                                                       | Example                        |\n",
        "|------------------------|-------------------------------------------------------------------|--------------------------------|\n",
        "| `np.add`               | Adds elements from two arrays element-wise.                       | `np.add([1, 2], [3, 4])`       |\n",
        "| `np.subtract`          | Subtracts elements of the second array from the first.            | `np.subtract([10, 20], [1, 2])`|\n",
        "| `np.multiply`          | Multiplies elements from two arrays element-wise.                 | `np.multiply([1, 2], [3, 4])`  |\n",
        "| `np.divide`            | Divides elements from the first array by those of the second.     | `np.divide([10, 20], [2, 5])`  |\n",
        "| `np.maximum`           | Returns the element-wise maximum between two arrays.              | `np.maximum([1, 3], [2, 2])`   |\n",
        "\n",
        "#####These functions are part of **NumPy's ufunc** library and are optimized for performance, allowing for fast, element-wise operations on large arrays.\n"
      ],
      "metadata": {
        "id": "45mz5j-ymMCt"
      }
    },
    {
      "cell_type": "markdown",
      "source": [
        "####Examples 1.9"
      ],
      "metadata": {
        "id": "8mqQeeXhtHtf"
      }
    },
    {
      "cell_type": "markdown",
      "source": [
        "\n",
        "\n",
        "\n",
        "* one-argument functions\n",
        "\n"
      ],
      "metadata": {
        "id": "a-ZLT1v9mx43"
      }
    },
    {
      "cell_type": "code",
      "source": [
        "arr = np.arange(17)\n",
        "\n",
        "arr"
      ],
      "metadata": {
        "id": "A3jlhfsrmz4C",
        "outputId": "35dd4c54-563e-4e0d-a349-eba5ee33e852",
        "colab": {
          "base_uri": "https://localhost:8080/"
        }
      },
      "execution_count": 26,
      "outputs": [
        {
          "output_type": "execute_result",
          "data": {
            "text/plain": [
              "array([ 0,  1,  2,  3,  4,  5,  6,  7,  8,  9, 10, 11, 12, 13, 14, 15, 16])"
            ]
          },
          "metadata": {},
          "execution_count": 26
        }
      ]
    },
    {
      "cell_type": "code",
      "source": [
        "np.sqrt(arr) # Computes the square root of each element"
      ],
      "metadata": {
        "id": "mL_gP0W9m_IB",
        "outputId": "bbc5fbee-9408-4cf9-df65-16473bb9f0e2",
        "colab": {
          "base_uri": "https://localhost:8080/"
        }
      },
      "execution_count": 25,
      "outputs": [
        {
          "output_type": "execute_result",
          "data": {
            "text/plain": [
              "array([[0.        , 1.        , 1.41421356, 1.73205081, 2.        ,\n",
              "        2.23606798, 2.44948974, 2.64575131, 2.82842712, 3.        ,\n",
              "        3.16227766, 3.31662479, 3.46410162, 3.60555128, 3.74165739,\n",
              "        3.87298335, 4.        ]])"
            ]
          },
          "metadata": {},
          "execution_count": 25
        }
      ]
    },
    {
      "cell_type": "code",
      "source": [
        "np.exp(arr) # Calculates the exponential of each element"
      ],
      "metadata": {
        "id": "USCUIJtfnLLD",
        "outputId": "de7725e8-583d-46a0-84cf-db04c628efed",
        "colab": {
          "base_uri": "https://localhost:8080/"
        }
      },
      "execution_count": 27,
      "outputs": [
        {
          "output_type": "execute_result",
          "data": {
            "text/plain": [
              "array([1.00000000e+00, 2.71828183e+00, 7.38905610e+00, 2.00855369e+01,\n",
              "       5.45981500e+01, 1.48413159e+02, 4.03428793e+02, 1.09663316e+03,\n",
              "       2.98095799e+03, 8.10308393e+03, 2.20264658e+04, 5.98741417e+04,\n",
              "       1.62754791e+05, 4.42413392e+05, 1.20260428e+06, 3.26901737e+06,\n",
              "       8.88611052e+06])"
            ]
          },
          "metadata": {},
          "execution_count": 27
        }
      ]
    },
    {
      "cell_type": "code",
      "source": [
        "np.log(arr) # Calculates the natural logarithm of each element."
      ],
      "metadata": {
        "id": "sP8zw3_lnO5x",
        "outputId": "6146fb89-94d8-4374-bbfe-eb9a4e2054bc",
        "colab": {
          "base_uri": "https://localhost:8080/"
        }
      },
      "execution_count": 28,
      "outputs": [
        {
          "output_type": "stream",
          "name": "stderr",
          "text": [
            "<ipython-input-28-a67b4ae04e95>:1: RuntimeWarning: divide by zero encountered in log\n",
            "  np.log(arr)\n"
          ]
        },
        {
          "output_type": "execute_result",
          "data": {
            "text/plain": [
              "array([      -inf, 0.        , 0.69314718, 1.09861229, 1.38629436,\n",
              "       1.60943791, 1.79175947, 1.94591015, 2.07944154, 2.19722458,\n",
              "       2.30258509, 2.39789527, 2.48490665, 2.56494936, 2.63905733,\n",
              "       2.7080502 , 2.77258872])"
            ]
          },
          "metadata": {},
          "execution_count": 28
        }
      ]
    },
    {
      "cell_type": "markdown",
      "source": [
        "\n",
        "\n",
        "*   two-argument functions\n"
      ],
      "metadata": {
        "id": "DFEGzuIGnan2"
      }
    },
    {
      "cell_type": "code",
      "source": [
        "x = np.random.randn(8) # Generate an array of 8 random float numbers between 0 and 1 using a uniform distribution\n",
        "y = np.random.randn(8) # Generate an array of 8 random float numbers between 0 and 1 using a uniform distribution\n",
        "\n",
        "print(x)\n",
        "print(y)"
      ],
      "metadata": {
        "id": "WHoSjgIinc4Q",
        "outputId": "b0fe3d3d-adb7-4fd4-b5c4-fa13c5aaa091",
        "colab": {
          "base_uri": "https://localhost:8080/"
        }
      },
      "execution_count": 31,
      "outputs": [
        {
          "output_type": "stream",
          "name": "stdout",
          "text": [
            "[-1.56306679 -0.79563099  0.9305844   0.67776741  0.69844026  0.17360206\n",
            "  0.66228451  0.24112216]\n",
            "[-0.16820509  1.16476865 -0.24574769 -0.76966777  1.21217234  1.2334968\n",
            " -1.57415529  0.63795294]\n"
          ]
        }
      ]
    },
    {
      "cell_type": "code",
      "source": [
        "np.add(x,y) # Adds elements from two arrays"
      ],
      "metadata": {
        "id": "DTzk5HAKnvEd",
        "outputId": "e98bb84c-79fa-4b56-efac-20e68071b6dd",
        "colab": {
          "base_uri": "https://localhost:8080/"
        }
      },
      "execution_count": 32,
      "outputs": [
        {
          "output_type": "execute_result",
          "data": {
            "text/plain": [
              "array([-1.73127188,  0.36913765,  0.68483671, -0.09190036,  1.9106126 ,\n",
              "        1.40709887, -0.91187077,  0.87907511])"
            ]
          },
          "metadata": {},
          "execution_count": 32
        }
      ]
    },
    {
      "cell_type": "code",
      "source": [
        "np.subtract(x,y) # Subtracts elements of the second array from the first"
      ],
      "metadata": {
        "id": "Lu-hcwyHn130",
        "outputId": "80c22d4a-699e-47fc-d779-84f541b1514e",
        "colab": {
          "base_uri": "https://localhost:8080/"
        }
      },
      "execution_count": 33,
      "outputs": [
        {
          "output_type": "execute_result",
          "data": {
            "text/plain": [
              "array([-1.39486171, -1.96039964,  1.17633209,  1.44743518, -0.51373208,\n",
              "       -1.05989474,  2.2364398 , -0.39683078])"
            ]
          },
          "metadata": {},
          "execution_count": 33
        }
      ]
    },
    {
      "cell_type": "code",
      "source": [
        "np.multiply(x,y) # Multiplies elements from two arrays element-wise"
      ],
      "metadata": {
        "id": "q_U9g2nRn4lc",
        "outputId": "9b07f1af-2533-46e0-fcd8-04e248c51006",
        "colab": {
          "base_uri": "https://localhost:8080/"
        }
      },
      "execution_count": 34,
      "outputs": [
        {
          "output_type": "execute_result",
          "data": {
            "text/plain": [
              "array([ 0.26291579, -0.92672603, -0.22868896, -0.52165573,  0.84662996,\n",
              "        0.21413759, -1.04253867,  0.15382459])"
            ]
          },
          "metadata": {},
          "execution_count": 34
        }
      ]
    },
    {
      "cell_type": "code",
      "source": [
        "np.divide(x,y) # Divides elements from the first array by those of the second"
      ],
      "metadata": {
        "id": "inLh9RT_n7vY",
        "outputId": "c46c95fa-b94d-48c3-ad04-816f2176d4bf",
        "colab": {
          "base_uri": "https://localhost:8080/"
        }
      },
      "execution_count": 35,
      "outputs": [
        {
          "output_type": "execute_result",
          "data": {
            "text/plain": [
              "array([ 9.29262493, -0.68308071, -3.78674734, -0.88059736,  0.57618891,\n",
              "        0.14073978, -0.42072375,  0.3779623 ])"
            ]
          },
          "metadata": {},
          "execution_count": 35
        }
      ]
    },
    {
      "cell_type": "code",
      "source": [
        "np.maximum(x,y) # Returns the element-wise maximum between two arrays"
      ],
      "metadata": {
        "id": "qezQJRK-n9_h",
        "outputId": "5c959b4a-0819-4a46-d116-572d8ec1abb2",
        "colab": {
          "base_uri": "https://localhost:8080/"
        }
      },
      "execution_count": 36,
      "outputs": [
        {
          "output_type": "execute_result",
          "data": {
            "text/plain": [
              "array([-0.16820509,  1.16476865,  0.9305844 ,  0.67776741,  1.21217234,\n",
              "        1.2334968 ,  0.66228451,  0.63795294])"
            ]
          },
          "metadata": {},
          "execution_count": 36
        }
      ]
    },
    {
      "cell_type": "markdown",
      "source": [
        "## 1.4 Programming with arrays"
      ],
      "metadata": {
        "id": "7wQi8NF8oj1h"
      }
    },
    {
      "cell_type": "markdown",
      "source": [
        "### Logical Conditional Operations in NumPy"
      ],
      "metadata": {
        "id": "PE1vqL3dpV70"
      }
    },
    {
      "cell_type": "markdown",
      "source": [
        "#####Logical operations in NumPy allow you to perform element-wise conditional checks on arrays. These operations are useful when filtering or transforming data based on specific conditions.\n",
        "\n",
        "\n",
        "- **`np.where(condition, x, y)`**:\n",
        "  - Returns elements from `x` or `y` depending on whether the condition is `True` or `False`. For each element, if the condition is `True`, the element from `x` is chosen, otherwise from `y`.\n",
        "\n",
        "\n",
        "- **`np.all(condition)`**:\n",
        "  - Checks if **all** elements of the condition are `True`. Returns `True` if all elements satisfy the condition, otherwise `False`.\n",
        "\n",
        "\n",
        "- **`np.any(condition)`**:\n",
        "  - Checks if **any** element of the condition is `True`. Returns `True` if at least one element satisfies the condition, otherwise `False`.\n",
        "\n",
        "\n",
        "- **`np.count_nonzero(arr)`**:\n",
        "  - Counts the number of non-zero elements in an array.\n"
      ],
      "metadata": {
        "id": "v1ANMlJepTrp"
      }
    },
    {
      "cell_type": "markdown",
      "source": [
        "####Examples 1.10"
      ],
      "metadata": {
        "id": "-iU9VNzdtL3-"
      }
    },
    {
      "cell_type": "markdown",
      "source": [
        "\n",
        "\n",
        "*   np.where\n",
        "\n"
      ],
      "metadata": {
        "id": "dW9uheP_rO65"
      }
    },
    {
      "cell_type": "code",
      "source": [
        "arr = np.random.randn(15) # Generate an array of 15 random numbers from a normal distribution (mean = 0, std = 1)\n",
        "\n",
        "arr # Display the resulting array\n"
      ],
      "metadata": {
        "id": "DjgSaMO4ns6L",
        "outputId": "86eef20b-c240-4bcf-9d45-3183f1a027dc",
        "colab": {
          "base_uri": "https://localhost:8080/"
        }
      },
      "execution_count": 51,
      "outputs": [
        {
          "output_type": "execute_result",
          "data": {
            "text/plain": [
              "array([ 0.35778736,  0.56078453,  1.08305124,  1.05380205, -1.37766937,\n",
              "       -0.93782504,  0.51503527,  0.51378595,  0.51504769,  3.85273149,\n",
              "        0.57089051,  1.13556564,  0.95400176,  0.65139125, -0.31526924])"
            ]
          },
          "metadata": {},
          "execution_count": 51
        }
      ]
    },
    {
      "cell_type": "code",
      "source": [
        "np.where(arr > 0, 2, -2).reshape(3,-1)\n"
      ],
      "metadata": {
        "id": "WpJFOQ_WrRWf",
        "outputId": "ad78a784-51d9-4eb8-a46d-73cec7d99e90",
        "colab": {
          "base_uri": "https://localhost:8080/"
        }
      },
      "execution_count": 57,
      "outputs": [
        {
          "output_type": "execute_result",
          "data": {
            "text/plain": [
              "array([[ 2,  2,  2,  2, -2],\n",
              "       [-2,  2,  2,  2,  2],\n",
              "       [ 2,  2,  2,  2, -2]])"
            ]
          },
          "metadata": {},
          "execution_count": 57
        }
      ]
    },
    {
      "cell_type": "code",
      "source": [
        "np.where(arr > 0.5, 2, arr)"
      ],
      "metadata": {
        "id": "8FDnjnf0rdlL",
        "outputId": "99242106-27f7-424b-e16d-3974db26b60e",
        "colab": {
          "base_uri": "https://localhost:8080/"
        }
      },
      "execution_count": 56,
      "outputs": [
        {
          "output_type": "execute_result",
          "data": {
            "text/plain": [
              "array([ 0.35778736,  2.        ,  2.        ,  2.        , -1.37766937,\n",
              "       -0.93782504,  2.        ,  2.        ,  2.        ,  2.        ,\n",
              "        2.        ,  2.        ,  2.        ,  2.        , -0.31526924])"
            ]
          },
          "metadata": {},
          "execution_count": 56
        }
      ]
    },
    {
      "cell_type": "markdown",
      "source": [
        "\n",
        "\n",
        "*   np.all\n"
      ],
      "metadata": {
        "id": "6hBNBUZtvSDI"
      }
    },
    {
      "cell_type": "code",
      "source": [
        "bools = np.array([True, False, False, True, False, True, True]) # `np.all(bools)` checks if all values in the `bools` array are True\n",
        "\n",
        "np.all(bools) # Returns `False` because not all elements are True"
      ],
      "metadata": {
        "id": "FByVLnncvT8T",
        "outputId": "df4edf91-7c72-4c30-c4cb-14400b8c076f",
        "colab": {
          "base_uri": "https://localhost:8080/"
        }
      },
      "execution_count": 73,
      "outputs": [
        {
          "output_type": "execute_result",
          "data": {
            "text/plain": [
              "False"
            ]
          },
          "metadata": {},
          "execution_count": 73
        }
      ]
    },
    {
      "cell_type": "code",
      "source": [
        "bools = np.array([True, True, 1, True, 2 , True, 0.93]) # `np.all(bools)` checks if all values in the `bools` array are True\n",
        "\n",
        "np.all(bools) # Returns `True` because all elements are interpreted as True values (non-zero)"
      ],
      "metadata": {
        "id": "Uz8t5Qk4vehS",
        "outputId": "aae96bc3-0293-4ba7-a3ad-c1b635880586",
        "colab": {
          "base_uri": "https://localhost:8080/"
        }
      },
      "execution_count": 75,
      "outputs": [
        {
          "output_type": "execute_result",
          "data": {
            "text/plain": [
              "True"
            ]
          },
          "metadata": {},
          "execution_count": 75
        }
      ]
    },
    {
      "cell_type": "markdown",
      "source": [
        "\n",
        "\n",
        "*   np.any\n",
        "\n"
      ],
      "metadata": {
        "id": "5Ci6BLO5xIdm"
      }
    },
    {
      "cell_type": "code",
      "source": [
        "bools = np.any([True, False, False, True, False, True, True]) # `np.any(bools)` checks if any element in the `bools` array is True\n",
        "\n",
        "np.all(bools) # The result is `True` because there are True values in the array"
      ],
      "metadata": {
        "id": "qFMXFsd8wlRV",
        "outputId": "a6d3ebe0-1dbf-46e2-e20f-81fd239ad03b",
        "colab": {
          "base_uri": "https://localhost:8080/"
        }
      },
      "execution_count": 77,
      "outputs": [
        {
          "output_type": "execute_result",
          "data": {
            "text/plain": [
              "True"
            ]
          },
          "metadata": {},
          "execution_count": 77
        }
      ]
    },
    {
      "cell_type": "code",
      "source": [
        "bools = np.any([True, True, 1, True, 2 , True, 0.93])  # `np.any(bools)` checks if any element in the `bools` array is True\n",
        "\n",
        "np.all(bools)  # The result is `True` because there are True values in the array"
      ],
      "metadata": {
        "id": "8CbC14niwqX1",
        "outputId": "92bab12c-cdfa-4321-f299-bb58942da18b",
        "colab": {
          "base_uri": "https://localhost:8080/"
        }
      },
      "execution_count": 78,
      "outputs": [
        {
          "output_type": "execute_result",
          "data": {
            "text/plain": [
              "True"
            ]
          },
          "metadata": {},
          "execution_count": 78
        }
      ]
    },
    {
      "cell_type": "markdown",
      "source": [
        "\n",
        "\n",
        "*   np.count_nonzero\n",
        "\n"
      ],
      "metadata": {
        "id": "-71Nx2eixLGH"
      }
    },
    {
      "cell_type": "code",
      "source": [
        "bools = np.count_nonzero([True, True, False, True, True , True, False]) # `np.count_nonzero()` counts the number of non-zero (or True) values in the input array.\n",
        "\n",
        "bools # The result of `np.count_nonzero()` will be `5`, as there are 5 True values in the array."
      ],
      "metadata": {
        "id": "ib5UkSQqw6i8",
        "outputId": "303c813a-d1f1-4ef6-a9d3-07cea206a420",
        "colab": {
          "base_uri": "https://localhost:8080/"
        }
      },
      "execution_count": 81,
      "outputs": [
        {
          "output_type": "execute_result",
          "data": {
            "text/plain": [
              "5"
            ]
          },
          "metadata": {},
          "execution_count": 81
        }
      ]
    },
    {
      "cell_type": "markdown",
      "source": [
        "### Mathematical and Statistical Methods in NumPy"
      ],
      "metadata": {
        "id": "aAk4BOQCs2CR"
      }
    },
    {
      "cell_type": "markdown",
      "source": [
        "\n",
        "\n",
        "#####NumPy provides a variety of mathematical and statistical functions that can be used to perform operations on arrays efficiently.\n",
        "\n",
        "- **`np.mean(array)`**:\n",
        "  - Calculates the mean (average) of the array elements.\n",
        "\n",
        "\n",
        "- **`np.sum(array)`**:\n",
        "  - Computes the sum of the array elements.\n",
        "\n",
        "\n",
        "- **`np.cumsum(array)`**:\n",
        "  - Returns the cumulative sum of the elements along a given axis.\n",
        "\n",
        "- **`np.std(array)`**:\n",
        "  - Computes the standard deviation of the array elements, which measures the amount of variation.\n",
        "\n",
        "\n",
        "- **`np.var(array)`**:\n",
        "  - Calculates the variance of the array elements, which is the square of the standard deviation.\n",
        "\n",
        "\n",
        "- **`np.min(array)`**:\n",
        "  - Finds the minimum value in the array.\n",
        "\n",
        "\n",
        "- **`np.max(array)`**:\n",
        "  - Finds the maximum value in the array.\n",
        "\n",
        "\n",
        "- **`np.argmin(array)`**:\n",
        "  - Returns the index of the minimum value in the array.\n",
        "\n",
        "\n",
        "- **`np.argmax(array)`**:\n",
        "  - Returns the index of the maximum value in the array.\n",
        "\n"
      ],
      "metadata": {
        "id": "btGPiQoFsvBL"
      }
    },
    {
      "cell_type": "markdown",
      "source": [
        "####Examples 1.11"
      ],
      "metadata": {
        "id": "BIT48BUbtNyW"
      }
    },
    {
      "cell_type": "code",
      "source": [
        "x = np.arange(20).reshape(4,-1) # Generates an array with values from 0 to 19.\n",
        "\n",
        "x # Output will be a 4x5 array:\n"
      ],
      "metadata": {
        "id": "9adOMajZttKz",
        "outputId": "99de7456-7d8d-457d-b713-0bd657204c84",
        "colab": {
          "base_uri": "https://localhost:8080/"
        }
      },
      "execution_count": 61,
      "outputs": [
        {
          "output_type": "execute_result",
          "data": {
            "text/plain": [
              "array([[ 0,  1,  2,  3,  4],\n",
              "       [ 5,  6,  7,  8,  9],\n",
              "       [10, 11, 12, 13, 14],\n",
              "       [15, 16, 17, 18, 19]])"
            ]
          },
          "metadata": {},
          "execution_count": 61
        }
      ]
    },
    {
      "cell_type": "code",
      "source": [
        "np.mean(x) # Calculates the mean (average) of the array elements\n"
      ],
      "metadata": {
        "id": "QXBnHU4DuE3D",
        "outputId": "852181bb-50ed-4cf8-fe38-1258f0171112",
        "colab": {
          "base_uri": "https://localhost:8080/"
        }
      },
      "execution_count": 62,
      "outputs": [
        {
          "output_type": "execute_result",
          "data": {
            "text/plain": [
              "9.5"
            ]
          },
          "metadata": {},
          "execution_count": 62
        }
      ]
    },
    {
      "cell_type": "code",
      "source": [
        "np.sum(x) # Computes the sum of the array elements"
      ],
      "metadata": {
        "id": "aGeggj1PuICH",
        "outputId": "77acfbde-5b79-4ce5-ef7b-7e652734697c",
        "colab": {
          "base_uri": "https://localhost:8080/"
        }
      },
      "execution_count": 63,
      "outputs": [
        {
          "output_type": "execute_result",
          "data": {
            "text/plain": [
              "190"
            ]
          },
          "metadata": {},
          "execution_count": 63
        }
      ]
    },
    {
      "cell_type": "code",
      "source": [
        "np.cumsum(x, axis=0) # Returns the cumulative sum of the elements along a given axis"
      ],
      "metadata": {
        "id": "MaknVrceuNYf",
        "outputId": "011bf61f-c388-417d-a1ac-76532cab0b20",
        "colab": {
          "base_uri": "https://localhost:8080/"
        }
      },
      "execution_count": 64,
      "outputs": [
        {
          "output_type": "execute_result",
          "data": {
            "text/plain": [
              "array([[ 0,  1,  2,  3,  4],\n",
              "       [ 5,  7,  9, 11, 13],\n",
              "       [15, 18, 21, 24, 27],\n",
              "       [30, 34, 38, 42, 46]])"
            ]
          },
          "metadata": {},
          "execution_count": 64
        }
      ]
    },
    {
      "cell_type": "code",
      "source": [
        "np.cumsum(x, axis=1) # Returns the cumulative sum of the elements along a given axis"
      ],
      "metadata": {
        "id": "oP9omL-IuWdw",
        "outputId": "3b7b6d86-7e46-4182-ac9f-84941580617f",
        "colab": {
          "base_uri": "https://localhost:8080/"
        }
      },
      "execution_count": 65,
      "outputs": [
        {
          "output_type": "execute_result",
          "data": {
            "text/plain": [
              "array([[ 0,  1,  3,  6, 10],\n",
              "       [ 5, 11, 18, 26, 35],\n",
              "       [10, 21, 33, 46, 60],\n",
              "       [15, 31, 48, 66, 85]])"
            ]
          },
          "metadata": {},
          "execution_count": 65
        }
      ]
    },
    {
      "cell_type": "code",
      "source": [
        "np.std(x) # Computes the standard deviation of the array elements, which measures the amount of variation"
      ],
      "metadata": {
        "id": "MVXMAmY4ubut",
        "outputId": "4a1c2a6d-3194-4b3e-99f1-d1ada52896bf",
        "colab": {
          "base_uri": "https://localhost:8080/"
        }
      },
      "execution_count": 66,
      "outputs": [
        {
          "output_type": "execute_result",
          "data": {
            "text/plain": [
              "5.766281297335398"
            ]
          },
          "metadata": {},
          "execution_count": 66
        }
      ]
    },
    {
      "cell_type": "code",
      "source": [
        "np.var(x) # Calculates the variance of the array elements, which is the square of the standard deviation"
      ],
      "metadata": {
        "id": "qlhpQk_-ueiv",
        "outputId": "5241dfd2-a3ec-495a-8e2f-937b6b7f2c79",
        "colab": {
          "base_uri": "https://localhost:8080/"
        }
      },
      "execution_count": 67,
      "outputs": [
        {
          "output_type": "execute_result",
          "data": {
            "text/plain": [
              "33.25"
            ]
          },
          "metadata": {},
          "execution_count": 67
        }
      ]
    },
    {
      "cell_type": "code",
      "source": [
        "np.min(x) #Finds the minimum value in the array"
      ],
      "metadata": {
        "id": "GnOm8uKqujB7",
        "outputId": "e18e3b0d-6c41-4a27-9bc0-e1c82f9c16d5",
        "colab": {
          "base_uri": "https://localhost:8080/"
        }
      },
      "execution_count": 68,
      "outputs": [
        {
          "output_type": "execute_result",
          "data": {
            "text/plain": [
              "0"
            ]
          },
          "metadata": {},
          "execution_count": 68
        }
      ]
    },
    {
      "cell_type": "code",
      "source": [
        "np.max(x) #Finds the maximum value in the array"
      ],
      "metadata": {
        "id": "S2gSuuBbuuT4",
        "outputId": "beb611ae-06ee-45a5-966d-c718fd83d5c5",
        "colab": {
          "base_uri": "https://localhost:8080/"
        }
      },
      "execution_count": 69,
      "outputs": [
        {
          "output_type": "execute_result",
          "data": {
            "text/plain": [
              "19"
            ]
          },
          "metadata": {},
          "execution_count": 69
        }
      ]
    },
    {
      "cell_type": "code",
      "source": [
        "np.argmin(x) #Returns the index of the minimum value in the array"
      ],
      "metadata": {
        "id": "G5lzpJo1uvyQ",
        "outputId": "2512d255-b229-4db7-aa47-63babeb36b38",
        "colab": {
          "base_uri": "https://localhost:8080/"
        }
      },
      "execution_count": 70,
      "outputs": [
        {
          "output_type": "execute_result",
          "data": {
            "text/plain": [
              "0"
            ]
          },
          "metadata": {},
          "execution_count": 70
        }
      ]
    },
    {
      "cell_type": "code",
      "source": [
        "np.argmax(x) #Returns the index of the maximum value in the array"
      ],
      "metadata": {
        "id": "9ZWrWrXauzjw",
        "outputId": "340c631b-a3bd-4064-b850-9de7a706dc54",
        "colab": {
          "base_uri": "https://localhost:8080/"
        }
      },
      "execution_count": 71,
      "outputs": [
        {
          "output_type": "execute_result",
          "data": {
            "text/plain": [
              "19"
            ]
          },
          "metadata": {},
          "execution_count": 71
        }
      ]
    },
    {
      "cell_type": "markdown",
      "source": [
        "### Sorting in NumPy"
      ],
      "metadata": {
        "id": "OTgiXIxBxx_S"
      }
    },
    {
      "cell_type": "markdown",
      "source": [
        "#####Sorting is the process of arranging elements in a specified order. In NumPy, several functions allow you to sort arrays efficiently.\n",
        "\n",
        "##### Functions for Sorting:\n",
        "1. **`np.sort()`**: Returns a sorted copy of the input array.\n",
        "    - Syntax: `np.sort(arr)`\n",
        "    - Example: `np.sort([3, 1, 2])` returns `[1, 2, 3]`.\n",
        "    \n",
        "2. **`np.argsort()`**: Returns the indices that would sort an array.\n",
        "    - Syntax: `np.argsort(arr)`\n",
        "    - Example: `np.argsort([3, 1, 2])` returns `[1, 2, 0]`.\n",
        "\n",
        "3. **`np.sort()` with axis**: Allows sorting along a specific axis.\n",
        "    - Syntax: `np.sort(arr, axis=0)` (Sorts by columns)\n",
        "    - Syntax: `np.sort(arr, axis=1)` (Sorts by rows)\n"
      ],
      "metadata": {
        "id": "ihDxL9yVxv_5"
      }
    },
    {
      "cell_type": "markdown",
      "source": [
        "####Examples 1.12"
      ],
      "metadata": {
        "id": "46H2KUrH0SYb"
      }
    },
    {
      "cell_type": "code",
      "source": [
        "# arr_1, arr_2, arr_3, arr_4, arr_5, arr_6: Creating six 1x11 arrays of random integers from 0 to 9 using np.random.randint\n",
        "arr_1 = np.random.randint(10, size=(1,11))\n",
        "arr_2 = np.random.randint(10, size=(1,11))\n",
        "arr_3 = np.random.randint(10, size=(1,11))\n",
        "arr_4 = np.random.randint(10, size=(1,11))\n",
        "arr_5 = np.random.randint(10, size=(1,11))\n",
        "arr_6 = np.random.randint(10, size=(1,11))\n",
        "\n",
        "# Printing each array to visualize their content\n",
        "print(arr_1)\n",
        "print(arr_2)\n",
        "print(arr_3)\n",
        "print(arr_4)\n",
        "print(arr_5)\n",
        "print(arr_6)"
      ],
      "metadata": {
        "id": "KJmV1ApvyD52",
        "outputId": "67c76818-c6dd-428e-a64f-0293a95edfc8",
        "colab": {
          "base_uri": "https://localhost:8080/"
        }
      },
      "execution_count": 114,
      "outputs": [
        {
          "output_type": "stream",
          "name": "stdout",
          "text": [
            "[[4 4 9 9 2 0 4 8 0 2 3]]\n",
            "[[0 0 7 1 7 6 9 9 1 5 5]]\n",
            "[[2 1 0 5 4 8 0 6 4 4 1]]\n",
            "[[2 6 5 1 5 1 1 1 2 1 3]]\n",
            "[[8 5 0 7 6 9 2 0 4 3 9]]\n",
            "[[7 0 9 0 3 7 4 1 5 4 1]]\n"
          ]
        }
      ]
    },
    {
      "cell_type": "markdown",
      "source": [
        "\n",
        "\n",
        "*   np.sort\n",
        "\n"
      ],
      "metadata": {
        "id": "UHgtKmxZyMac"
      }
    },
    {
      "cell_type": "code",
      "source": [
        "np.sort(arr_1) # Returns a sorted version of arr_1 without modifying the original array"
      ],
      "metadata": {
        "id": "nw09jAjzyLpE",
        "outputId": "a56f8625-0649-4898-f2c4-d07e7c2e4df5",
        "colab": {
          "base_uri": "https://localhost:8080/"
        }
      },
      "execution_count": 115,
      "outputs": [
        {
          "output_type": "execute_result",
          "data": {
            "text/plain": [
              "array([[0, 0, 2, 2, 3, 4, 4, 4, 8, 9, 9]])"
            ]
          },
          "metadata": {},
          "execution_count": 115
        }
      ]
    },
    {
      "cell_type": "code",
      "source": [
        "np.sort(arr_2, axis=0) # Returns a sorted version of arr_2 along the specified axis"
      ],
      "metadata": {
        "id": "nb7arCSDy1mB",
        "outputId": "80bc09c8-7cd1-40c2-d37f-54f57000f37a",
        "colab": {
          "base_uri": "https://localhost:8080/"
        }
      },
      "execution_count": 116,
      "outputs": [
        {
          "output_type": "execute_result",
          "data": {
            "text/plain": [
              "array([[0, 0, 7, 1, 7, 6, 9, 9, 1, 5, 5]])"
            ]
          },
          "metadata": {},
          "execution_count": 116
        }
      ]
    },
    {
      "cell_type": "code",
      "source": [
        "np.sort(arr_3, axis=1) # Returns a sorted version of arr_3 along the specified axis"
      ],
      "metadata": {
        "id": "xyyeOjaXzAxx",
        "outputId": "d22186f4-b5c0-41ee-855b-bf1634be56a4",
        "colab": {
          "base_uri": "https://localhost:8080/"
        }
      },
      "execution_count": 117,
      "outputs": [
        {
          "output_type": "execute_result",
          "data": {
            "text/plain": [
              "array([[0, 0, 1, 1, 2, 4, 4, 4, 5, 6, 8]])"
            ]
          },
          "metadata": {},
          "execution_count": 117
        }
      ]
    },
    {
      "cell_type": "code",
      "source": [
        "np.argsort(arr_4) # Returns the indices of arr_4 that would sort the array"
      ],
      "metadata": {
        "id": "WRjFsdmVzDDH",
        "outputId": "3c00582f-682e-46a4-80a0-0b2933480f12",
        "colab": {
          "base_uri": "https://localhost:8080/"
        }
      },
      "execution_count": 118,
      "outputs": [
        {
          "output_type": "execute_result",
          "data": {
            "text/plain": [
              "array([[ 3,  5,  6,  7,  9,  0,  8, 10,  2,  4,  1]])"
            ]
          },
          "metadata": {},
          "execution_count": 118
        }
      ]
    },
    {
      "cell_type": "markdown",
      "source": [
        "### Unique Values in NumPy"
      ],
      "metadata": {
        "id": "tESYLZ9n02Ja"
      }
    },
    {
      "cell_type": "markdown",
      "source": [
        "- The function `np.unique()` is used to find the unique elements in an array.\n",
        "- It returns a sorted array of unique elements from the input array, removing any duplicates.\n",
        "- By default, it sorts the unique values in ascending order.\n",
        "\n"
      ],
      "metadata": {
        "id": "NlqsJAuS01Ag"
      }
    },
    {
      "cell_type": "code",
      "source": [
        "arr = np.array([1, 2, 2, 3, 3, 3, 4, 5, 5]) # Creating a NumPy array with some duplicate values\n",
        "\n",
        "unique_values = np.unique(arr) # Using np.unique to get unique values from the array\n",
        "\n",
        "unique_values # Displaying the unique values from the array"
      ],
      "metadata": {
        "id": "1Uj4hqs60849",
        "outputId": "c0524837-957c-4e1e-c866-f47a512f0020",
        "colab": {
          "base_uri": "https://localhost:8080/"
        }
      },
      "execution_count": 120,
      "outputs": [
        {
          "output_type": "execute_result",
          "data": {
            "text/plain": [
              "array([1, 2, 3, 4, 5])"
            ]
          },
          "metadata": {},
          "execution_count": 120
        }
      ]
    }
  ]
}